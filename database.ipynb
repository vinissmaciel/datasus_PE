{
 "cells": [
  {
   "cell_type": "markdown",
   "id": "189be886",
   "metadata": {},
   "source": [
    "# Biblioteca"
   ]
  },
  {
   "cell_type": "code",
   "execution_count": 3,
   "id": "6fa6d40a",
   "metadata": {},
   "outputs": [
    {
     "name": "stdout",
     "output_type": "stream",
     "text": [
      "Requirement already satisfied: psycopg2-binary in c:\\users\\vinicius\\appdata\\local\\programs\\python\\python312\\lib\\site-packages (2.9.9)\n",
      "Requirement already satisfied: sqlalchemy in c:\\users\\vinicius\\appdata\\local\\programs\\python\\python312\\lib\\site-packages (2.0.41)\n",
      "Requirement already satisfied: sqlalchemy-schemadisplay in c:\\users\\vinicius\\appdata\\local\\programs\\python\\python312\\lib\\site-packages (2.0)\n",
      "Requirement already satisfied: pydot in c:\\users\\vinicius\\appdata\\local\\programs\\python\\python312\\lib\\site-packages (4.0.1)\n",
      "Requirement already satisfied: greenlet>=1 in c:\\users\\vinicius\\appdata\\local\\programs\\python\\python312\\lib\\site-packages (from sqlalchemy) (3.2.2)\n",
      "Requirement already satisfied: typing-extensions>=4.6.0 in c:\\users\\vinicius\\appdata\\local\\programs\\python\\python312\\lib\\site-packages (from sqlalchemy) (4.12.2)\n",
      "Requirement already satisfied: setuptools in c:\\users\\vinicius\\appdata\\local\\programs\\python\\python312\\lib\\site-packages (from sqlalchemy-schemadisplay) (80.9.0)\n",
      "Requirement already satisfied: Pillow in c:\\users\\vinicius\\appdata\\local\\programs\\python\\python312\\lib\\site-packages (from sqlalchemy-schemadisplay) (10.2.0)\n",
      "Requirement already satisfied: pyparsing>=3.1.0 in c:\\users\\vinicius\\appdata\\local\\programs\\python\\python312\\lib\\site-packages (from pydot) (3.1.2)\n",
      "Requirement already satisfied: pydot in c:\\users\\vinicius\\appdata\\local\\programs\\python\\python312\\lib\\site-packages (4.0.1)\n",
      "Requirement already satisfied: pyparsing>=3.1.0 in c:\\users\\vinicius\\appdata\\local\\programs\\python\\python312\\lib\\site-packages (from pydot) (3.1.2)\n"
     ]
    }
   ],
   "source": [
    "!pip install psycopg2-binary\n",
    "!pip install sqlalchemy sqlalchemy-schemadisplay pydot\n",
    "!pip install pydot\n",
    "import psycopg2\n",
    "import pandas as pd\n",
    "from pathlib import Path\n"
   ]
  },
  {
   "cell_type": "markdown",
   "id": "8061eda3",
   "metadata": {},
   "source": [
    "# Utilidades"
   ]
  },
  {
   "cell_type": "code",
   "execution_count": 1,
   "id": "93714f52",
   "metadata": {},
   "outputs": [],
   "source": [
    "def get_dataframe_from_csv(file_path, delimiter=','):\n",
    "    try:\n",
    "        df = pd.read_csv(file_path, dtype=str, delimiter=delimiter)\n",
    "        print(f\"Arquivo CSV '{file_path}' lido com sucesso.\")\n",
    "        return df\n",
    "    except Exception as e:\n",
    "        print(f\"Erro ao ler o arquivo CSV: {e}\")\n",
    "        return pd.DataFrame()\n",
    "    \n",
    "def insert_dataframe_to_table(conn, cur, df, sql_query, columns, table_name):\n",
    "    \"\"\"\n",
    "    Insere dados de um DataFrame em uma tabela.\n",
    "    \n",
    "    Args:\n",
    "        conn: Conexão com o banco\n",
    "        cur: Cursor do banco\n",
    "        df: DataFrame com os dados\n",
    "        sql_query: Query SQL de inserção\n",
    "        columns: Lista com nomes das colunas do DataFrame\n",
    "        table_name: Nome da tabela para mensagens\n",
    "    \"\"\"\n",
    "    if conn is not None and cur is not None and not df.empty:\n",
    "        try:\n",
    "            data_tuples = [tuple(row[col] for col in columns) for _, row in df.iterrows()]\n",
    "            cur.executemany(sql_query, data_tuples)\n",
    "            conn.commit()\n",
    "            print(f\"Dados inseridos na tabela '{table_name}' com sucesso. ({len(data_tuples)} registros)\")\n",
    "            return True\n",
    "        except psycopg2.Error as e:\n",
    "            print(f\"Erro ao inserir dados na tabela '{table_name}': {e}\")\n",
    "            conn.rollback()\n",
    "            return False\n",
    "    else:\n",
    "        print(f\"Não foi possível inserir dados na tabela '{table_name}': conexão inválida ou DataFrame vazio.\")\n",
    "        return False"
   ]
  },
  {
   "cell_type": "markdown",
   "id": "524d4086",
   "metadata": {},
   "source": [
    "# Conexão"
   ]
  },
  {
   "cell_type": "code",
   "execution_count": 4,
   "id": "2e58b140",
   "metadata": {},
   "outputs": [
    {
     "name": "stdout",
     "output_type": "stream",
     "text": [
      "Conexão com o PostgreSQL bem-sucedida!\n"
     ]
    }
   ],
   "source": [
    "db_config = {\n",
    "    \"host\": \"localhost\",\n",
    "    \"port\": \"5432\",\n",
    "    \"database\": \"tebd_db\",\n",
    "    \"user\": \"tebd\",\n",
    "    \"password\": \"tebd\"\n",
    "}\n",
    "\n",
    "conn = None\n",
    "cur = None\n",
    "\n",
    "# --- Conectar ao Banco de Dados ---\n",
    "try:\n",
    "    conn = psycopg2.connect(**db_config)\n",
    "    print(\"Conexão com o PostgreSQL bem-sucedida!\")\n",
    "    cur = conn.cursor()\n",
    "except psycopg2.Error as e:\n",
    "    print(f\"Erro ao conectar ao PostgreSQL: {e}\")\n"
   ]
  },
  {
   "cell_type": "markdown",
   "id": "8a389dc0",
   "metadata": {},
   "source": [
    "# Criação das tabelas"
   ]
  },
  {
   "cell_type": "code",
   "execution_count": 90,
   "id": "edf03224",
   "metadata": {},
   "outputs": [
    {
     "name": "stdout",
     "output_type": "stream",
     "text": [
      "Tabela 'Municipio' criada com sucesso.\n",
      "Tabela 'Estabelecimento' criada com sucesso.\n",
      "Tabela 'Procedimento' criada com sucesso.\n",
      "Tabela 'Cid' criada com sucesso.\n",
      "Tabela 'Pessoa' criada com sucesso.\n",
      "Tabela 'Internamento' criada com sucesso.\n"
     ]
    }
   ],
   "source": [
    "sql_create_municipio = \"\"\"\n",
    "    CREATE TABLE IF NOT EXISTS Municipio (\n",
    "        municipio_id VARCHAR(6) PRIMARY KEY UNIQUE,\n",
    "        municipio_nome VARCHAR(100)\n",
    "    );\n",
    "\"\"\"\n",
    "\n",
    "sql_create_estabelecimento = \"\"\"\n",
    "    CREATE TABLE IF NOT EXISTS Estabelecimento (\n",
    "        cnes_id VARCHAR(7) PRIMARY KEY UNIQUE,\n",
    "        cnpj VARCHAR(15),\n",
    "        municipio_id VARCHAR(6) REFERENCES Municipio(municipio_id)\n",
    "    );\n",
    "\"\"\"\n",
    "\n",
    "sql_create_procedimento = \"\"\"\n",
    "    CREATE TABLE IF NOT EXISTS Procedimento (\n",
    "        procedimento_id VARCHAR(10) PRIMARY KEY UNIQUE,\n",
    "        procedimento_nome VARCHAR(255)\n",
    "    );\n",
    "\"\"\"\n",
    "\n",
    "sql_create_cid = \"\"\"\n",
    "    CREATE TABLE IF NOT EXISTS Cid (\n",
    "        cid_id VARCHAR(4) PRIMARY KEY UNIQUE,\n",
    "        cid_nome VARCHAR(500)\n",
    "    );\n",
    "\"\"\"\n",
    "\n",
    "sql_create_pessoa = \"\"\"\n",
    "    CREATE TABLE IF NOT EXISTS Pessoa (\n",
    "        pessoa_id SERIAL PRIMARY KEY UNIQUE,\n",
    "        nasc DATE,\n",
    "        sexo VARCHAR(1),\n",
    "        idade NUMERIC(2),\n",
    "        raca_cor VARCHAR(4),\n",
    "        etnia VARCHAR(4),\n",
    "        cod_idade VARCHAR(1)\n",
    "    );\n",
    "\"\"\"\n",
    "\n",
    "sql_create_internamento = \"\"\"\n",
    "    CREATE TABLE IF NOT EXISTS Internamento (\n",
    "        internamento_id VARCHAR(13) PRIMARY KEY UNIQUE,\n",
    "        qt_diarias NUMERIC(3),\n",
    "        val_sh NUMERIC(13, 2),\n",
    "        val_sp NUMERIC(13, 2),\n",
    "        val_tot NUMERIC(14, 2),\n",
    "        dt_inter DATE,\n",
    "        morte NUMERIC(1),\n",
    "        cid_morte VARCHAR(4),\n",
    "        cnes_id VARCHAR(7) REFERENCES Estabelecimento(cnes_id),\n",
    "        procedimento_id VARCHAR(10) REFERENCES Procedimento(procedimento_id),\n",
    "        cid_id VARCHAR(4) REFERENCES Cid(cid_id),\n",
    "        pessoa_id INT REFERENCES Pessoa(pessoa_id)\n",
    "    );\n",
    "\"\"\"\n",
    "\n",
    "if conn is not None and cur is not None:\n",
    "    try:\n",
    "        cur.execute(sql_create_municipio)\n",
    "        print(\"Tabela 'Municipio' criada com sucesso.\")\n",
    "\n",
    "        cur.execute(sql_create_estabelecimento)\n",
    "        print(\"Tabela 'Estabelecimento' criada com sucesso.\")\n",
    "\n",
    "        cur.execute(sql_create_procedimento)\n",
    "        print(\"Tabela 'Procedimento' criada com sucesso.\")\n",
    "\n",
    "        cur.execute(sql_create_cid)\n",
    "        print(\"Tabela 'Cid' criada com sucesso.\")\n",
    "\n",
    "        cur.execute(sql_create_pessoa)\n",
    "        print(\"Tabela 'Pessoa' criada com sucesso.\")\n",
    "\n",
    "        cur.execute(sql_create_internamento)\n",
    "        print(\"Tabela 'Internamento' criada com sucesso.\")\n",
    "\n",
    "        conn.commit()\n",
    "    except psycopg2.Error as e:\n",
    "        print(f\"Erro ao criar as tabelas: {e}\")\n",
    "        conn.rollback()"
   ]
  },
  {
   "cell_type": "markdown",
   "id": "2b152240",
   "metadata": {},
   "source": [
    "# Inserção nas tabelas"
   ]
  },
  {
   "cell_type": "markdown",
   "id": "de35428b",
   "metadata": {},
   "source": [
    "## Municipios"
   ]
  },
  {
   "cell_type": "code",
   "execution_count": 5,
   "id": "79fd39fe",
   "metadata": {},
   "outputs": [
    {
     "name": "stdout",
     "output_type": "stream",
     "text": [
      "Arquivo CSV 'data/municipios_tratado.csv' lido com sucesso.\n"
     ]
    }
   ],
   "source": [
    "df_municipios = get_dataframe_from_csv('data/municipios_tratado.csv')"
   ]
  },
  {
   "cell_type": "code",
   "execution_count": 6,
   "id": "ba309c33",
   "metadata": {},
   "outputs": [
    {
     "name": "stdout",
     "output_type": "stream",
     "text": [
      "Dados inseridos na tabela 'Municipio' com sucesso. (185 registros)\n"
     ]
    }
   ],
   "source": [
    "sql_insert_municipio = \"\"\"\n",
    "    INSERT INTO Municipio (municipio_id, municipio_nome)\n",
    "    VALUES (%s, %s)\n",
    "    ON CONFLICT (municipio_id) DO NOTHING;\n",
    "\"\"\"\n",
    "\n",
    "_ = insert_dataframe_to_table(\n",
    "    conn, cur, df_municipios, \n",
    "    sql_insert_municipio, \n",
    "    ['codigo', 'municipio'], \n",
    "    'Municipio'\n",
    ")"
   ]
  },
  {
   "cell_type": "markdown",
   "id": "b72afb65",
   "metadata": {},
   "source": [
    "## Estabelecimentos"
   ]
  },
  {
   "cell_type": "code",
   "execution_count": 7,
   "id": "2f5f1aee",
   "metadata": {},
   "outputs": [
    {
     "name": "stdout",
     "output_type": "stream",
     "text": [
      "Arquivo CSV 'data/CNES_tratado.csv' lido com sucesso.\n"
     ]
    }
   ],
   "source": [
    "df_estabelecimentos = get_dataframe_from_csv('data/CNES_tratado.csv')"
   ]
  },
  {
   "cell_type": "code",
   "execution_count": 8,
   "id": "3bc95ade",
   "metadata": {},
   "outputs": [
    {
     "name": "stdout",
     "output_type": "stream",
     "text": [
      "Dados inseridos na tabela 'Estabelecimento' com sucesso. (14586 registros)\n"
     ]
    }
   ],
   "source": [
    "sql_insert_estabelecimento = \"\"\"\n",
    "    INSERT INTO Estabelecimento (cnes_id, cnpj, municipio_id)\n",
    "    VALUES (%s, %s, %s)\n",
    "    ON CONFLICT (cnes_id) DO NOTHING;\n",
    "\"\"\"\n",
    "\n",
    "_ = insert_dataframe_to_table(\n",
    "    conn, cur, df_estabelecimentos, \n",
    "    sql_insert_estabelecimento, \n",
    "    ['CNES', 'CPF_CNPJ', 'CODUFMUN'], \n",
    "    'Estabelecimento'\n",
    ")"
   ]
  },
  {
   "cell_type": "markdown",
   "id": "b0c8114f",
   "metadata": {},
   "source": [
    "## Procedimentos"
   ]
  },
  {
   "cell_type": "code",
   "execution_count": 9,
   "id": "16ce7784",
   "metadata": {},
   "outputs": [
    {
     "name": "stdout",
     "output_type": "stream",
     "text": [
      "Arquivo CSV 'data/procedimentos_tratado.csv' lido com sucesso.\n"
     ]
    }
   ],
   "source": [
    "df_procedimentos = get_dataframe_from_csv('data/procedimentos_tratado.csv', delimiter=';')"
   ]
  },
  {
   "cell_type": "code",
   "execution_count": 10,
   "id": "687892fd",
   "metadata": {},
   "outputs": [
    {
     "name": "stdout",
     "output_type": "stream",
     "text": [
      "Dados inseridos na tabela 'Procedimento' com sucesso. (5279 registros)\n"
     ]
    }
   ],
   "source": [
    "sql_insert_procedimento = \"\"\"\n",
    "    INSERT INTO Procedimento (procedimento_id, procedimento_nome)\n",
    "    VALUES (%s, %s)\n",
    "    ON CONFLICT (procedimento_id) DO NOTHING;\n",
    "\"\"\"\n",
    "\n",
    "_ = insert_dataframe_to_table(\n",
    "    conn, cur, df_procedimentos, \n",
    "    sql_insert_procedimento, \n",
    "    ['codproc', 'nome'], \n",
    "    'Procedimento'\n",
    ")\n"
   ]
  },
  {
   "cell_type": "markdown",
   "id": "7242eca6",
   "metadata": {},
   "source": [
    "## Cid"
   ]
  },
  {
   "cell_type": "code",
   "execution_count": 11,
   "id": "ada325ac",
   "metadata": {},
   "outputs": [
    {
     "name": "stdout",
     "output_type": "stream",
     "text": [
      "Arquivo CSV 'data/cid_tratado.csv' lido com sucesso.\n"
     ]
    }
   ],
   "source": [
    "df_cid = get_dataframe_from_csv('data/cid_tratado.csv', delimiter=';')"
   ]
  },
  {
   "cell_type": "code",
   "execution_count": 13,
   "id": "1af0a066",
   "metadata": {},
   "outputs": [
    {
     "name": "stdout",
     "output_type": "stream",
     "text": [
      "Dados inseridos na tabela 'Cid' com sucesso. (14231 registros)\n"
     ]
    }
   ],
   "source": [
    "sql_insert_cid = \"\"\"\n",
    "    INSERT INTO Cid (cid_id, cid_nome)\n",
    "    VALUES (%s, %s)\n",
    "    ON CONFLICT (cid_id) DO NOTHING;\n",
    "\"\"\"\n",
    "_ = insert_dataframe_to_table(\n",
    "    conn, cur, df_cid,\n",
    "    sql_insert_cid,\n",
    "    ['codigo', 'descricao'],\n",
    "    'Cid'\n",
    ")"
   ]
  },
  {
   "cell_type": "markdown",
   "id": "ae369581",
   "metadata": {},
   "source": [
    "## Pessoa e Internamento\n",
    "\n",
    "O dataframe para pessoa e internamento é o mesmo."
   ]
  },
  {
   "cell_type": "code",
   "execution_count": 19,
   "id": "b52dabf0",
   "metadata": {},
   "outputs": [
    {
     "name": "stdout",
     "output_type": "stream",
     "text": [
      "Arquivo CSV 'data/sus/selected_data.csv' lido com sucesso.\n"
     ]
    }
   ],
   "source": [
    "DEBUG = False\n",
    "\n",
    "df_internamentos_list = []\n",
    "\n",
    "if DEBUG:\n",
    "    df_internamento = get_dataframe_from_csv('data/arquivo_500linhas.csv')\n",
    "    df_internamentos_list.append(df_internamento)\n",
    "else:\n",
    "    df_internamento = get_dataframe_from_csv('data/sus/selected_data.csv')\n",
    "    df_internamentos_list.append(df_internamento.head(500))\n"
   ]
  },
  {
   "cell_type": "code",
   "execution_count": 20,
   "id": "7fd538a1",
   "metadata": {},
   "outputs": [
    {
     "name": "stdout",
     "output_type": "stream",
     "text": [
      "Erro ao inserir dados na tabela 'Internamento': insert or update on table \"internamento\" violates foreign key constraint \"internamento_cid_id_fkey\"\n",
      "DETAIL:  Key (cid_id)=(N17) is not present in table \"cid\".\n",
      "\n"
     ]
    }
   ],
   "source": [
    "sql_insert_pessoa = \"\"\"\n",
    "    INSERT INTO Pessoa (nasc, sexo, idade, raca_cor, etnia, cod_idade)\n",
    "    VALUES (%s, %s, %s, %s, %s, %s)\n",
    "    RETURNING pessoa_id;\n",
    "\"\"\"\n",
    "\n",
    "sql_insert_internamento = \"\"\"\n",
    "    INSERT INTO Internamento (\n",
    "        internamento_id, qt_diarias, val_sh, val_sp, val_tot, dt_inter, \n",
    "        morte, cid_morte, cnes_id, procedimento_id, cid_id, pessoa_id\n",
    "    )\n",
    "    VALUES (%s, %s, %s, %s, %s, %s, %s, %s, %s, %s, %s, %s)\n",
    "    ON CONFLICT (internamento_id) DO NOTHING;\n",
    "\"\"\"\n",
    "\n",
    "if conn is None or cur is None:\n",
    "    print(\"Conexão com o banco de dados não estabelecida. Não é possível inserir dados na tabela 'Internamento'.\")\n",
    "    exit(1)\n",
    "\n",
    "for df_internamento in df_internamentos_list:\n",
    "    if not df_internamento.empty:\n",
    "        try:\n",
    "            for _, row in df_internamento.iterrows():\n",
    "                cur.execute(sql_insert_pessoa, (\n",
    "                    row['NASC'], row['SEXO'], row['IDADE'], \n",
    "                    row['RACA_COR'], row['ETNIA'], row['COD_IDADE']\n",
    "                ))\n",
    "                pessoa_id = cur.fetchone()[0]\n",
    "\n",
    "                # Garantir que PROC_REA tenha sempre 10 dígitos\n",
    "                proc_rea = str(row['PROC_REA']).zfill(10)\n",
    "\n",
    "                cur.execute(sql_insert_internamento, (\n",
    "                    row['N_AIH'], row['QT_DIARIAS'], row['VAL_SH'], \n",
    "                    row['VAL_SP'], row['VAL_TOT'], row['DT_INTER'], \n",
    "                    row['MORTE'], row['CID_MORTE'], row['CNES'], \n",
    "                    proc_rea, row['DIAG_PRINC'], pessoa_id\n",
    "                ))\n",
    "            conn.commit()\n",
    "            print(f\"Dados inseridos na tabela 'Internamento' com sucesso. ({len(df_internamento)} registros)\")\n",
    "        except psycopg2.Error as e:\n",
    "            print(f\"Erro ao inserir dados na tabela 'Internamento': {e}\")\n",
    "            conn.rollback()\n",
    "    else:\n",
    "        print(f\"DataFrame: {df_internamento} está vazio. Nenhum dado será inserido na tabela 'Internamento'.\")\n"
   ]
  },
  {
   "cell_type": "markdown",
   "id": "ad517763",
   "metadata": {},
   "source": [
    "# Preview output"
   ]
  },
  {
   "cell_type": "code",
   "execution_count": 7,
   "id": "3f7ac031",
   "metadata": {},
   "outputs": [],
   "source": [
    "# Função para executar consultas e exibir resultados\n",
    "def execute_query_and_display(query, title, limit=10):\n",
    "    \"\"\"\n",
    "    Executa uma consulta SQL e exibe os resultados de forma formatada\n",
    "    \"\"\"\n",
    "    if conn is not None and cur is not None:\n",
    "        try:\n",
    "            cur.execute(query)\n",
    "            results = cur.fetchall()\n",
    "            columns = [desc[0] for desc in cur.description]\n",
    "            \n",
    "            print(f\"\\n{'='*60}\")\n",
    "            print(f\"{title}\")\n",
    "            print(f\"{'='*60}\")\n",
    "            \n",
    "            if results:\n",
    "                # Criar DataFrame para melhor visualização\n",
    "                df_result = pd.DataFrame(results, columns=columns)\n",
    "                print(f\"Total de registros: {len(df_result)}\")\n",
    "                print(f\"\\nPrimeiros {min(limit, len(df_result))} resultados:\")\n",
    "                print(df_result.head(limit).to_string(index=False))\n",
    "                return df_result\n",
    "            else:\n",
    "                print(\"Nenhum resultado encontrado.\")\n",
    "                return pd.DataFrame()\n",
    "        except psycopg2.Error as e:\n",
    "            print(f\"Erro ao executar consulta: {e}\")\n",
    "            return pd.DataFrame()\n",
    "    else:\n",
    "        print(\"Conexão com o banco não estabelecida.\")\n",
    "        return pd.DataFrame()"
   ]
  },
  {
   "cell_type": "markdown",
   "id": "d418660d",
   "metadata": {},
   "source": [
    "# Consultas Analíticas para Dashboard\n",
    "\n",
    "Aqui vamos criar várias consultas que demonstram diferentes perspectivas dos dados de internação do DATASUS, úteis para visualizações em dashboard."
   ]
  },
  {
   "cell_type": "markdown",
   "id": "d54c1117",
   "metadata": {},
   "source": [
    "## 1. Análise Temporal de Internações"
   ]
  },
  {
   "cell_type": "code",
   "execution_count": 8,
   "id": "2b5bbca2",
   "metadata": {},
   "outputs": [
    {
     "name": "stdout",
     "output_type": "stream",
     "text": [
      "\n",
      "============================================================\n",
      "INTERNAÇÕES POR PERÍODO\n",
      "============================================================\n",
      "Total de registros: 4\n",
      "\n",
      "Primeiros 4 resultados:\n",
      " ano mes  total_internacoes      media_diarias valor_total\n",
      "2018  10                  7 9.4285714285714286     3719.40\n",
      "2018  11                 35 3.6000000000000000    25204.90\n",
      "2018  12                164 7.2317073170731707   231865.87\n",
      "2019   1                294 2.8333333333333333   190454.64\n"
     ]
    }
   ],
   "source": [
    "# Internações por mês/ano\n",
    "query_internacoes_tempo = \"\"\"\n",
    "    SELECT \n",
    "        EXTRACT(YEAR FROM dt_inter) AS ano,\n",
    "        EXTRACT(MONTH FROM dt_inter) AS mes,\n",
    "        COUNT(*) AS total_internacoes,\n",
    "        AVG(qt_diarias) AS media_diarias,\n",
    "        SUM(val_tot) AS valor_total\n",
    "    FROM Internamento \n",
    "    WHERE dt_inter IS NOT NULL\n",
    "    GROUP BY EXTRACT(YEAR FROM dt_inter), EXTRACT(MONTH FROM dt_inter)\n",
    "    ORDER BY ano, mes;\n",
    "\"\"\"\n",
    "\n",
    "df_tempo = execute_query_and_display(query_internacoes_tempo, \"INTERNAÇÕES POR PERÍODO\")"
   ]
  },
  {
   "cell_type": "markdown",
   "id": "61ded736",
   "metadata": {},
   "source": [
    "## 2. Top Diagnósticos (CID) mais Frequentes"
   ]
  },
  {
   "cell_type": "code",
   "execution_count": 9,
   "id": "25b79b99",
   "metadata": {},
   "outputs": [
    {
     "name": "stdout",
     "output_type": "stream",
     "text": [
      "\n",
      "============================================================\n",
      "TOP 15 DIAGNÓSTICOS MAIS FREQUENTES\n",
      "============================================================\n",
      "Total de registros: 15\n",
      "\n",
      "Primeiros 10 resultados:\n",
      "cid_id                                                   cid_nome  total_casos          valor_medio          media_diarias  obitos taxa_mortalidade_pct\n",
      "  O800                                  Parto espontâneo cefálico           32 527.3300000000000000     1.7812500000000000       0                 0.00\n",
      "  O801                                   Parto espontâneo pélvico           16 472.4437500000000000     1.8750000000000000       0                 0.00\n",
      "  O034           Aborto espontâneo - incompleto, sem complicações           15 195.6900000000000000     2.0666666666666667       0                 0.00\n",
      "  S525                     Fratura da extremidade distal do rádio           14 606.9457142857142857     4.2857142857142857       0                 0.00\n",
      "  H251                                     Catarata senil nuclear           14 531.6000000000000000                  0E-20       0                 0.00\n",
      "  O821                          Parto por cesariana de emergência           10 637.5370000000000000     2.8000000000000000       0                 0.00\n",
      "   A09  Diarréia e gastroenterite de origem infecciosa presumível           10 343.3000000000000000     2.5000000000000000       0                 0.00\n",
      "  T141              Ferimento de região não especificada do corpo           10 342.3900000000000000     7.3000000000000000       0                 0.00\n",
      "  L989 Afecções da pele e do tecido subcutâneo, não especificados           10 162.9560000000000000 0.30000000000000000000       0                 0.00\n",
      "  K359                   Apendicite aguda sem outra especificação           10 919.0200000000000000     2.5000000000000000       0                 0.00\n"
     ]
    }
   ],
   "source": [
    "# Top 15 diagnósticos mais frequentes\n",
    "query_top_cid = \"\"\"\n",
    "    SELECT \n",
    "        c.cid_id,\n",
    "        c.cid_nome,\n",
    "        COUNT(i.internamento_id) AS total_casos,\n",
    "        AVG(i.val_tot) AS valor_medio,\n",
    "        AVG(i.qt_diarias) AS media_diarias,\n",
    "        COUNT(CASE WHEN i.morte = 1 THEN 1 END) AS obitos,\n",
    "        ROUND(\n",
    "            (COUNT(CASE WHEN i.morte = 1 THEN 1 END) * 100.0 / COUNT(i.internamento_id)), 2\n",
    "        ) AS taxa_mortalidade_pct\n",
    "    FROM Cid c\n",
    "    JOIN Internamento i ON c.cid_id = i.cid_id\n",
    "    GROUP BY c.cid_id, c.cid_nome\n",
    "    ORDER BY total_casos DESC\n",
    "    LIMIT 15;\n",
    "\"\"\"\n",
    "\n",
    "df_top_cid = execute_query_and_display(query_top_cid, \"TOP 15 DIAGNÓSTICOS MAIS FREQUENTES\")"
   ]
  },
  {
   "cell_type": "markdown",
   "id": "05f6daa3",
   "metadata": {},
   "source": [
    "## 3. Análise por Faixa Etária e Sexo"
   ]
  },
  {
   "cell_type": "code",
   "execution_count": 10,
   "id": "c8348113",
   "metadata": {},
   "outputs": [
    {
     "name": "stdout",
     "output_type": "stream",
     "text": [
      "\n",
      "============================================================\n",
      "DISTRIBUIÇÃO POR FAIXA ETÁRIA E SEXO\n",
      "============================================================\n",
      "Total de registros: 10\n",
      "\n",
      "Primeiros 10 resultados:\n",
      "faixa_etaria          sexo  total_internacoes           valor_medio      media_diarias\n",
      "   0-17 anos Não informado                 44  365.2747727272727273 3.0000000000000000\n",
      "   0-17 anos Não informado                 36  416.8341666666666667 3.4722222222222222\n",
      "  18-39 anos Não informado                116  624.7629310344827586 2.6982758620689655\n",
      "  18-39 anos Não informado                 56 1085.8317857142857143 4.2678571428571429\n",
      "  40-59 anos Não informado                 43 1169.8190697674418605 6.6511627906976744\n",
      "  40-59 anos Não informado                 76 1453.7218421052631579 5.1447368421052632\n",
      "  60-79 anos Não informado                 63 1093.5252380952380952 5.2539682539682540\n",
      "  60-79 anos Não informado                 32  898.3878125000000000 5.7187500000000000\n",
      "    80+ anos Não informado                 15  574.4800000000000000 5.0666666666666667\n",
      "    80+ anos Não informado                 19 1044.4647368421052632 7.1052631578947368\n"
     ]
    }
   ],
   "source": [
    "# Distribuição por faixa etária e sexo\n",
    "query_idade_sexo = \"\"\"\n",
    "    SELECT \n",
    "        CASE \n",
    "            WHEN p.idade BETWEEN 0 AND 17 THEN '0-17 anos'\n",
    "            WHEN p.idade BETWEEN 18 AND 39 THEN '18-39 anos'\n",
    "            WHEN p.idade BETWEEN 40 AND 59 THEN '40-59 anos'\n",
    "            WHEN p.idade BETWEEN 60 AND 79 THEN '60-79 anos'\n",
    "            WHEN p.idade >= 80 THEN '80+ anos'\n",
    "            ELSE 'Não informado'\n",
    "        END AS faixa_etaria,\n",
    "        CASE \n",
    "            WHEN p.sexo = 'M' THEN 'Masculino'\n",
    "            WHEN p.sexo = 'F' THEN 'Feminino'\n",
    "            ELSE 'Não informado'\n",
    "        END AS sexo,\n",
    "        COUNT(i.internamento_id) AS total_internacoes,\n",
    "        AVG(i.val_tot) AS valor_medio,\n",
    "        AVG(i.qt_diarias) AS media_diarias\n",
    "    FROM Pessoa p\n",
    "    JOIN Internamento i ON p.pessoa_id = i.pessoa_id\n",
    "    WHERE p.idade IS NOT NULL AND p.sexo IS NOT NULL\n",
    "    GROUP BY faixa_etaria, sexo\n",
    "    ORDER BY faixa_etaria, sexo;\n",
    "\"\"\"\n",
    "\n",
    "df_idade_sexo = execute_query_and_display(query_idade_sexo, \"DISTRIBUIÇÃO POR FAIXA ETÁRIA E SEXO\")"
   ]
  },
  {
   "cell_type": "markdown",
   "id": "e0efb665",
   "metadata": {},
   "source": [
    "## 4. Ranking de Municípios por Volume de Internações"
   ]
  },
  {
   "cell_type": "code",
   "execution_count": 12,
   "id": "f19bf672",
   "metadata": {},
   "outputs": [
    {
     "name": "stdout",
     "output_type": "stream",
     "text": [
      "\n",
      "============================================================\n",
      "TOP 10 MUNICÍPIOS POR VOLUME DE INTERNAÇÕES\n",
      "============================================================\n",
      "Total de registros: 8\n",
      "\n",
      "Primeiros 8 resultados:\n",
      "municipio_nome  total_internacoes valor_total valor_medio_internacao  num_estabelecimentos\n",
      "        Recife                122   253025.54  2073.9798360655737705                     1\n",
      "     Arcoverde                 99    51880.44   524.0448484848484848                     1\n",
      "     Garanhuns                 83    35839.78   431.8045783132530120                     1\n",
      "   Petrolândia                 60    25929.62   432.1603333333333333                     1\n",
      "     Petrolina                 51    22229.65   435.8754901960784314                     2\n",
      "        Moreno                 40    48310.76  1207.7690000000000000                     1\n",
      "        Buíque                 35    10116.41   289.0402857142857143                     1\n",
      "       Caruaru                 10     3912.61   391.2610000000000000                     1\n"
     ]
    }
   ],
   "source": [
    "# Top 10 municípios com mais internações\n",
    "query_ranking_municipios = \"\"\"\n",
    "    SELECT \n",
    "        m.municipio_nome,\n",
    "        COUNT(i.internamento_id) AS total_internacoes,\n",
    "        SUM(i.val_tot) AS valor_total,\n",
    "        AVG(i.val_tot) AS valor_medio_internacao,\n",
    "        COUNT(DISTINCT e.cnes_id) AS num_estabelecimentos\n",
    "    FROM Municipio m\n",
    "    JOIN Estabelecimento e ON m.municipio_id = e.municipio_id\n",
    "    JOIN Internamento i ON e.cnes_id = i.cnes_id\n",
    "    GROUP BY m.municipio_id, m.municipio_nome\n",
    "    ORDER BY total_internacoes DESC\n",
    "    LIMIT 10;\n",
    "\"\"\"\n",
    "\n",
    "df_ranking_municipios = execute_query_and_display(query_ranking_municipios, \"TOP 10 MUNICÍPIOS POR VOLUME DE INTERNAÇÕES\")"
   ]
  },
  {
   "cell_type": "markdown",
   "id": "33e07f15",
   "metadata": {},
   "source": [
    "## 5. Análise de Procedimentos Mais Custosos"
   ]
  },
  {
   "cell_type": "code",
   "execution_count": 13,
   "id": "db2dbfd0",
   "metadata": {},
   "outputs": [
    {
     "name": "stdout",
     "output_type": "stream",
     "text": [
      "\n",
      "============================================================\n",
      "TOP 10 PROCEDIMENTOS MAIS CUSTOSOS\n",
      "============================================================\n",
      "Total de registros: 10\n",
      "\n",
      "Primeiros 10 resultados:\n",
      "                                                                                                                                                                                                                                         procedimento_nome  total_realizacoes valor_total_gasto valor_medio_procedimento  media_dias_internacao\n",
      "TRATAMENTO C/ CIRURGIAS MULTIPLAS                                                                                                                                                                                                                                          29          86787.97    2992.6886206896551724     6.3793103448275862\n",
      "PARTO NORMAL                                                                                                                                                                                                                                                               49          24902.06     508.2053061224489796     1.8367346938775510\n",
      "TRATAMENTO CIRURGICO EM POLITRAUMATIZADO                                                                                                                                                                                                                                   12          19278.16    1606.5133333333333333     3.2500000000000000\n",
      "TRAQUEOSTOMIA                                                                                                                                                                                                                                                               2          19223.93    9611.9650000000000000     8.0000000000000000\n",
      "TRATAMENTO DE LESAO DO SISTEMA NEUROVEGETATIVO POR AGENTES QUIMICOS                                                                                                                                                                                                        10          18952.20    1895.2200000000000000 1.00000000000000000000\n",
      "TRATAMENTO DE INSUFICIENCIA RENAL CRONICA                                                                                                                                                                                                                                   4          17642.25    4410.5625000000000000    16.2500000000000000\n",
      "TRATAMENTO CIRÚRGICO DE LESÕES VASCULARES TRAUMÁTICAS DE MEMBRO SUPERIOR UNILATERAL                                                                                                                                                                                         2          14575.02    7287.5100000000000000    28.5000000000000000\n",
      "FACECTOMIA C/ IMPLANTE DE LENTE INTRA-OCULAR                                                                                                                                                                                                                               21          11163.60     531.6000000000000000                  0E-20\n",
      "DEBRIDAMENTO DE ULCERA / DE TECIDOS DESVITALIZADOS                                                                                                                                                                                                                          8           9334.29    1166.7862500000000000     3.6250000000000000\n",
      "COLECISTECTOMIA                                                                                                                                                                                                                                                            12           9097.06     758.0883333333333333     2.5000000000000000\n"
     ]
    }
   ],
   "source": [
    "# Top 10 procedimentos mais custosos (por valor total)\n",
    "query_procedimentos_custosos = \"\"\"\n",
    "    SELECT \n",
    "        p.procedimento_nome,\n",
    "        COUNT(i.internamento_id) AS total_realizacoes,\n",
    "        SUM(i.val_tot) AS valor_total_gasto,\n",
    "        AVG(i.val_tot) AS valor_medio_procedimento,\n",
    "        AVG(i.qt_diarias) AS media_dias_internacao\n",
    "    FROM Procedimento p\n",
    "    JOIN Internamento i ON p.procedimento_id = i.procedimento_id\n",
    "    GROUP BY p.procedimento_id, p.procedimento_nome\n",
    "    HAVING COUNT(i.internamento_id) >= 2  -- Filtra procedimentos com pelo menos 2 casos\n",
    "    ORDER BY valor_total_gasto DESC\n",
    "    LIMIT 10;\n",
    "\"\"\"\n",
    "\n",
    "df_procedimentos_custosos = execute_query_and_display(query_procedimentos_custosos, \"TOP 10 PROCEDIMENTOS MAIS CUSTOSOS\")"
   ]
  },
  {
   "cell_type": "markdown",
   "id": "fb71b8db",
   "metadata": {},
   "source": [
    "## 6. Análise de Mortalidade por Diagnóstico"
   ]
  },
  {
   "cell_type": "code",
   "execution_count": 14,
   "id": "c91f0390",
   "metadata": {},
   "outputs": [
    {
     "name": "stdout",
     "output_type": "stream",
     "text": [
      "\n",
      "============================================================\n",
      "TOP 10 DIAGNÓSTICOS COM MAIOR TAXA DE MORTALIDADE\n",
      "============================================================\n",
      "Total de registros: 10\n",
      "\n",
      "Primeiros 10 resultados:\n",
      "cid_id                                                   cid_nome  total_casos  total_obitos taxa_mortalidade_pct  media_dias_internacao\n",
      "  O034           Aborto espontâneo - incompleto, sem complicações           15             0                 0.00     2.0666666666666667\n",
      "  O821                          Parto por cesariana de emergência           10             0                 0.00     2.8000000000000000\n",
      "  L989 Afecções da pele e do tecido subcutâneo, não especificados           10             0                 0.00 0.30000000000000000000\n",
      "  O801                                   Parto espontâneo pélvico           16             0                 0.00     1.8750000000000000\n",
      "  T141              Ferimento de região não especificada do corpo           10             0                 0.00     7.3000000000000000\n",
      "  H251                                     Catarata senil nuclear           14             0                 0.00                  0E-20\n",
      "   A09  Diarréia e gastroenterite de origem infecciosa presumível           10             0                 0.00     2.5000000000000000\n",
      "  O800                                  Parto espontâneo cefálico           32             0                 0.00     1.7812500000000000\n",
      "  K359                   Apendicite aguda sem outra especificação           10             0                 0.00     2.5000000000000000\n",
      "  S525                     Fratura da extremidade distal do rádio           14             0                 0.00     4.2857142857142857\n"
     ]
    }
   ],
   "source": [
    "# Diagnósticos com maiores taxas de mortalidade (mínimo 10 casos)\n",
    "query_mortalidade_cid = \"\"\"\n",
    "    SELECT \n",
    "        c.cid_id,\n",
    "        c.cid_nome,\n",
    "        COUNT(i.internamento_id) AS total_casos,\n",
    "        COUNT(CASE WHEN i.morte = 1 THEN 1 END) AS total_obitos,\n",
    "        ROUND(\n",
    "            (COUNT(CASE WHEN i.morte = 1 THEN 1 END) * 100.0 / COUNT(i.internamento_id)), 2\n",
    "        ) AS taxa_mortalidade_pct,\n",
    "        AVG(i.qt_diarias) AS media_dias_internacao\n",
    "    FROM Cid c\n",
    "    JOIN Internamento i ON c.cid_id = i.cid_id\n",
    "    GROUP BY c.cid_id, c.cid_nome\n",
    "    HAVING COUNT(i.internamento_id) >= 10  -- Mínimo de 10 casos para análise estatística\n",
    "    ORDER BY taxa_mortalidade_pct DESC\n",
    "    LIMIT 10;\n",
    "\"\"\"\n",
    "\n",
    "df_mortalidade_cid = execute_query_and_display(query_mortalidade_cid, \"TOP 10 DIAGNÓSTICOS COM MAIOR TAXA DE MORTALIDADE\")"
   ]
  },
  {
   "cell_type": "markdown",
   "id": "9dee1521",
   "metadata": {},
   "source": [
    "## 7. Análise por Estabelecimentos (CNES)"
   ]
  },
  {
   "cell_type": "code",
   "execution_count": 20,
   "id": "1a37b791",
   "metadata": {},
   "outputs": [
    {
     "name": "stdout",
     "output_type": "stream",
     "text": [
      "Erro ao executar consulta: current transaction is aborted, commands ignored until end of transaction block\n",
      "\n"
     ]
    }
   ],
   "source": [
    "# Top 10 estabelecimentos por volume de internações\n",
    "query_ranking_estabelecimentos = \"\"\"\n",
    "    SELECT \n",
    "        e.cnes_id,\n",
    "        m.municipio_nome,\n",
    "        COUNT(i.internamento_id) AS total_internacoes,\n",
    "        SUM(i.val_tot) AS valor_total_movimentado,\n",
    "        AVG(i.val_tot) AS valor_medio_internacao,\n",
    "        AVG(i.qt_diarias) AS media_dias_internacao,\n",
    "        COUNT(CASE WHEN i.morte = 1 THEN 1 END) AS total_obitos,\n",
    "        ROUND(\n",
    "            (COUNT(CASE WHEN i.morte = 1 THEN 1 END) * 100.0 / COUNT(i.internamento_id)), 2\n",
    "        ) AS taxa_mortalidade_pct\n",
    "    FROM Estabelecimento e\n",
    "    JOIN Municipio m ON e.municipio_id = m.municipio_id\n",
    "    JOIN Internamento i ON e.cnes_id = i.cnes_id\n",
    "    GROUP BY e.cnes_id, m.municipio_nome\n",
    "    ORDER BY total_internacoes DESC\n",
    "    LIMIT 10;\n",
    "\"\"\"\n",
    "\n",
    "df_ranking_estabelecimentos = execute_query_and_display(query_ranking_estabelecimentos, \"TOP 10 ESTABELECIMENTOS POR VOLUME DE INTERNAÇÕES\")"
   ]
  },
  {
   "cell_type": "markdown",
   "id": "7729bc13",
   "metadata": {},
   "source": [
    "## 8. Análise de Tempo de Internação"
   ]
  },
  {
   "cell_type": "code",
   "execution_count": 17,
   "id": "f87be71d",
   "metadata": {},
   "outputs": [
    {
     "name": "stdout",
     "output_type": "stream",
     "text": [
      "Erro ao executar consulta: current transaction is aborted, commands ignored until end of transaction block\n",
      "\n"
     ]
    }
   ],
   "source": [
    "# Análise de distribuição do tempo de internação\n",
    "query_tempo_internacao = \"\"\"\n",
    "    SELECT \n",
    "        CASE \n",
    "            WHEN qt_diarias = 0 THEN 'Menos de 1 dia'\n",
    "            WHEN qt_diarias BETWEEN 1 AND 3 THEN '1-3 dias'\n",
    "            WHEN qt_diarias BETWEEN 4 AND 7 THEN '4-7 dias'\n",
    "            WHEN qt_diarias BETWEEN 8 AND 15 THEN '8-15 dias'\n",
    "            WHEN qt_diarias BETWEEN 16 AND 30 THEN '16-30 dias'\n",
    "            WHEN qt_diarias > 30 THEN 'Mais de 30 dias'\n",
    "        END AS faixa_dias,\n",
    "        COUNT(*) AS total_internacoes,\n",
    "        AVG(val_tot) AS valor_medio,\n",
    "        COUNT(CASE WHEN morte = 1 THEN 1 END) AS total_obitos,\n",
    "        ROUND(\n",
    "            (COUNT(CASE WHEN morte = 1 THEN 1 END) * 100.0 / COUNT(*)), 2\n",
    "        ) AS taxa_mortalidade_pct\n",
    "    FROM Internamento\n",
    "    WHERE qt_diarias IS NOT NULL\n",
    "    GROUP BY faixa_dias\n",
    "    ORDER BY \n",
    "        CASE \n",
    "            WHEN qt_diarias = 0 THEN 1\n",
    "            WHEN qt_diarias BETWEEN 1 AND 3 THEN 2\n",
    "            WHEN qt_diarias BETWEEN 4 AND 7 THEN 3\n",
    "            WHEN qt_diarias BETWEEN 8 AND 15 THEN 4\n",
    "            WHEN qt_diarias BETWEEN 16 AND 30 THEN 5\n",
    "            WHEN qt_diarias > 30 THEN 6\n",
    "        END;\n",
    "\"\"\"\n",
    "\n",
    "df_tempo_internacao = execute_query_and_display(query_tempo_internacao, \"DISTRIBUIÇÃO DO TEMPO DE INTERNAÇÃO\")"
   ]
  },
  {
   "cell_type": "markdown",
   "id": "17059ab6",
   "metadata": {},
   "source": [
    "## 9. Análise Resumo - KPIs Gerais"
   ]
  },
  {
   "cell_type": "code",
   "execution_count": 18,
   "id": "02e91df5",
   "metadata": {},
   "outputs": [
    {
     "name": "stdout",
     "output_type": "stream",
     "text": [
      "Erro ao executar consulta: current transaction is aborted, commands ignored until end of transaction block\n",
      "\n"
     ]
    }
   ],
   "source": [
    "# KPIs gerais do sistema\n",
    "query_kpis_gerais = \"\"\"\n",
    "    SELECT \n",
    "        'Indicadores Gerais' AS categoria,\n",
    "        COUNT(DISTINCT i.internamento_id) AS total_internacoes,\n",
    "        COUNT(DISTINCT e.cnes_id) AS total_estabelecimentos,\n",
    "        COUNT(DISTINCT m.municipio_id) AS total_municipios,\n",
    "        COUNT(DISTINCT c.cid_id) AS total_diagnosticos_utilizados,\n",
    "        COUNT(DISTINCT p.procedimento_id) AS total_procedimentos_utilizados,\n",
    "        ROUND(SUM(i.val_tot), 2) AS valor_total_gasto,\n",
    "        ROUND(AVG(i.val_tot), 2) AS valor_medio_internacao,\n",
    "        ROUND(AVG(i.qt_diarias), 1) AS media_dias_internacao,\n",
    "        COUNT(CASE WHEN i.morte = 1 THEN 1 END) AS total_obitos,\n",
    "        ROUND(\n",
    "            (COUNT(CASE WHEN i.morte = 1 THEN 1 END) * 100.0 / COUNT(i.internamento_id)), 2\n",
    "        ) AS taxa_mortalidade_geral_pct\n",
    "    FROM Internamento i\n",
    "    JOIN Estabelecimento e ON i.cnes_id = e.cnes_id\n",
    "    JOIN Municipio m ON e.municipio_id = m.municipio_id\n",
    "    JOIN Cid c ON i.cid_id = c.cid_id\n",
    "    JOIN Procedimento p ON i.procedimento_id = p.procedimento_id;\n",
    "\"\"\"\n",
    "\n",
    "df_kpis_gerais = execute_query_and_display(query_kpis_gerais, \"KPIs GERAIS DO SISTEMA\", limit=20)"
   ]
  },
  {
   "cell_type": "markdown",
   "id": "4cda38d4",
   "metadata": {},
   "source": [
    "## 10. Consulta Customizada - Análise Combinada"
   ]
  },
  {
   "cell_type": "code",
   "execution_count": 19,
   "id": "7f3df8c9",
   "metadata": {},
   "outputs": [
    {
     "name": "stdout",
     "output_type": "stream",
     "text": [
      "Erro ao executar consulta: current transaction is aborted, commands ignored until end of transaction block\n",
      "\n"
     ]
    }
   ],
   "source": [
    "# Análise combinada: diagnóstico + procedimento + faixa etária\n",
    "query_analise_combinada = \"\"\"\n",
    "    SELECT \n",
    "        c.cid_nome,\n",
    "        proc.procedimento_nome,\n",
    "        CASE \n",
    "            WHEN pe.idade BETWEEN 0 AND 17 THEN '0-17 anos'\n",
    "            WHEN pe.idade BETWEEN 18 AND 39 THEN '18-39 anos'\n",
    "            WHEN pe.idade BETWEEN 40 AND 59 THEN '40-59 anos'\n",
    "            WHEN pe.idade BETWEEN 60 AND 79 THEN '60-79 anos'\n",
    "            WHEN pe.idade >= 80 THEN '80+ anos'\n",
    "            ELSE 'Não informado'\n",
    "        END AS faixa_etaria,\n",
    "        COUNT(i.internamento_id) AS total_casos,\n",
    "        AVG(i.val_tot) AS valor_medio,\n",
    "        AVG(i.qt_diarias) AS media_dias,\n",
    "        COUNT(CASE WHEN i.morte = 1 THEN 1 END) AS obitos,\n",
    "        ROUND(\n",
    "            (COUNT(CASE WHEN i.morte = 1 THEN 1 END) * 100.0 / COUNT(i.internamento_id)), 2\n",
    "        ) AS taxa_mortalidade_pct\n",
    "    FROM Internamento i\n",
    "    JOIN Cid c ON i.cid_id = c.cid_id\n",
    "    JOIN Procedimento proc ON i.procedimento_id = proc.procedimento_id\n",
    "    JOIN Pessoa pe ON i.pessoa_id = pe.pessoa_id\n",
    "    WHERE pe.idade IS NOT NULL\n",
    "    GROUP BY c.cid_nome, proc.procedimento_nome, faixa_etaria\n",
    "    HAVING COUNT(i.internamento_id) >= 3  -- Pelo menos 3 casos para análise\n",
    "    ORDER BY total_casos DESC\n",
    "    LIMIT 15;\n",
    "\"\"\"\n",
    "\n",
    "df_analise_combinada = execute_query_and_display(query_analise_combinada, \"ANÁLISE COMBINADA: DIAGNÓSTICO + PROCEDIMENTO + FAIXA ETÁRIA\")"
   ]
  },
  {
   "cell_type": "markdown",
   "id": "49e82b84",
   "metadata": {},
   "source": [
    "## Resumo das Análises Criadas\n",
    "\n",
    "As consultas acima cobrem várias perspectivas importantes dos dados de internação:\n",
    "\n",
    "### Para Dashboard - Visualizações Sugeridas:\n",
    "1. **Série Temporal**: Gráfico de linha mostrando evolução das internações ao longo do tempo\n",
    "2. **Ranking CID**: Gráfico de barras com os diagnósticos mais frequentes\n",
    "3. **Demografia**: Pirâmide etária ou gráfico de barras por faixa etária/sexo\n",
    "4. **Mapa Geográfico**: Heatmap dos municípios por volume de internações\n",
    "5. **Análise Financeira**: Gráficos de custo por procedimento\n",
    "6. **Indicadores de Qualidade**: Dashboards de mortalidade e tempo médio de internação\n",
    "7. **Performance Hospitalar**: Ranking de estabelecimentos\n",
    "8. **Análise Integrada**: Tabelas e gráficos combinando múltiplas dimensões\n",
    "\n",
    "### KPIs Principais:\n",
    "- Total de internações\n",
    "- Valor total movimentado\n",
    "- Taxa de mortalidade geral\n",
    "- Tempo médio de internação\n",
    "- Número de estabelecimentos/municípios atendidos"
   ]
  }
 ],
 "metadata": {
  "kernelspec": {
   "display_name": "Python 3",
   "language": "python",
   "name": "python3"
  },
  "language_info": {
   "codemirror_mode": {
    "name": "ipython",
    "version": 3
   },
   "file_extension": ".py",
   "mimetype": "text/x-python",
   "name": "python",
   "nbconvert_exporter": "python",
   "pygments_lexer": "ipython3",
   "version": "3.12.5"
  }
 },
 "nbformat": 4,
 "nbformat_minor": 5
}
