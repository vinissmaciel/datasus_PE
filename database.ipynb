{
 "cells": [
  {
   "cell_type": "markdown",
   "id": "189be886",
   "metadata": {},
   "source": [
    "# Biblioteca"
   ]
  },
  {
   "cell_type": "code",
   "execution_count": null,
   "id": "6fa6d40a",
   "metadata": {},
   "outputs": [
    {
     "name": "stdout",
     "output_type": "stream",
     "text": [
      "Requirement already satisfied: psycopg2-binary in c:\\users\\duike\\onedrive\\documentos\\datasus_pe\\.venv\\lib\\site-packages (2.9.10)\n"
     ]
    },
    {
     "name": "stderr",
     "output_type": "stream",
     "text": [
      "\n",
      "[notice] A new release of pip is available: 24.0 -> 25.2\n",
      "[notice] To update, run: python.exe -m pip install --upgrade pip\n"
     ]
    },
    {
     "name": "stdout",
     "output_type": "stream",
     "text": [
      "Requirement already satisfied: sqlalchemy in c:\\users\\duike\\onedrive\\documentos\\datasus_pe\\.venv\\lib\\site-packages (2.0.43)\n",
      "Requirement already satisfied: sqlalchemy-schemadisplay in c:\\users\\duike\\onedrive\\documentos\\datasus_pe\\.venv\\lib\\site-packages (2.0)\n",
      "Requirement already satisfied: pydot in c:\\users\\duike\\onedrive\\documentos\\datasus_pe\\.venv\\lib\\site-packages (4.0.1)\n",
      "Requirement already satisfied: greenlet>=1 in c:\\users\\duike\\onedrive\\documentos\\datasus_pe\\.venv\\lib\\site-packages (from sqlalchemy) (3.2.4)\n",
      "Requirement already satisfied: typing-extensions>=4.6.0 in c:\\users\\duike\\onedrive\\documentos\\datasus_pe\\.venv\\lib\\site-packages (from sqlalchemy) (4.15.0)\n",
      "Requirement already satisfied: setuptools in c:\\users\\duike\\onedrive\\documentos\\datasus_pe\\.venv\\lib\\site-packages (from sqlalchemy-schemadisplay) (80.9.0)\n",
      "Requirement already satisfied: Pillow in c:\\users\\duike\\onedrive\\documentos\\datasus_pe\\.venv\\lib\\site-packages (from sqlalchemy-schemadisplay) (11.3.0)\n",
      "Requirement already satisfied: pyparsing>=3.1.0 in c:\\users\\duike\\onedrive\\documentos\\datasus_pe\\.venv\\lib\\site-packages (from pydot) (3.2.5)\n"
     ]
    },
    {
     "name": "stderr",
     "output_type": "stream",
     "text": [
      "\n",
      "[notice] A new release of pip is available: 24.0 -> 25.2\n",
      "[notice] To update, run: python.exe -m pip install --upgrade pip\n"
     ]
    },
    {
     "name": "stdout",
     "output_type": "stream",
     "text": [
      "Requirement already satisfied: pydot in c:\\users\\duike\\onedrive\\documentos\\datasus_pe\\.venv\\lib\\site-packages (4.0.1)\n",
      "Requirement already satisfied: pyparsing>=3.1.0 in c:\\users\\duike\\onedrive\\documentos\\datasus_pe\\.venv\\lib\\site-packages (from pydot) (3.2.5)\n"
     ]
    },
    {
     "name": "stderr",
     "output_type": "stream",
     "text": [
      "\n",
      "[notice] A new release of pip is available: 24.0 -> 25.2\n",
      "[notice] To update, run: python.exe -m pip install --upgrade pip\n"
     ]
    }
   ],
   "source": [
    "!pip install psycopg2-binary\n",
    "!pip install sqlalchemy sqlalchemy-schemadisplay pydot\n",
    "!pip install pydot\n",
    "import psycopg2\n",
    "import pandas as pd\n",
    "from pathlib import Path\n"
   ]
  },
  {
   "cell_type": "markdown",
   "id": "8061eda3",
   "metadata": {},
   "source": [
    "# Utilidades"
   ]
  },
  {
   "cell_type": "code",
   "execution_count": 59,
   "id": "93714f52",
   "metadata": {},
   "outputs": [],
   "source": [
    "def get_dataframe_from_csv(file_path, delimiter=','):\n",
    "    try:\n",
    "        df = pd.read_csv(file_path, dtype=str, delimiter=delimiter)\n",
    "        print(f\"Arquivo CSV '{file_path}' lido com sucesso.\")\n",
    "        return df\n",
    "    except Exception as e:\n",
    "        print(f\"Erro ao ler o arquivo CSV: {e}\")\n",
    "        return pd.DataFrame()  # Retorna um DataFrame vazio em caso de erro"
   ]
  },
  {
   "cell_type": "markdown",
   "id": "524d4086",
   "metadata": {},
   "source": [
    "# Conexão"
   ]
  },
  {
   "cell_type": "code",
   "execution_count": null,
   "id": "2e58b140",
   "metadata": {},
   "outputs": [
    {
     "name": "stdout",
     "output_type": "stream",
     "text": [
      "Conexão com o PostgreSQL bem-sucedida!\n"
     ]
    }
   ],
   "source": [
    "db_config = {\n",
    "    \"host\": \"localhost\",\n",
    "    \"port\": \"5432\",\n",
    "    \"database\": \"tebd_db\",\n",
    "    \"user\": \"tebd\",\n",
    "    \"password\": \"tebd\"\n",
    "}\n",
    "\n",
    "conn = None\n",
    "cur = None\n",
    "\n",
    "# --- Conectar ao Banco de Dados ---\n",
    "try:\n",
    "    conn = psycopg2.connect(**db_config)\n",
    "    print(\"Conexão com o PostgreSQL bem-sucedida!\")\n",
    "    cur = conn.cursor()\n",
    "except psycopg2.Error as e:\n",
    "    print(f\"Erro ao conectar ao PostgreSQL: {e}\")\n"
   ]
  },
  {
   "cell_type": "code",
   "execution_count": 14,
   "id": "edf03224",
   "metadata": {},
   "outputs": [
    {
     "name": "stdout",
     "output_type": "stream",
     "text": [
      "Tabela 'Municipio' criada com sucesso.\n",
      "Tabela 'Estabelecimento' criada com sucesso.\n",
      "Tabela 'Procedimento' criada com sucesso.\n",
      "Tabela 'Cid' criada com sucesso.\n",
      "Tabela 'Pessoa' criada com sucesso.\n",
      "Tabela 'Internamento' criada com sucesso.\n"
     ]
    }
   ],
   "source": [
    "# --- Definição dos comandos SQL ---\n",
    "sql_create_municipio = \"\"\"\n",
    "    CREATE TABLE IF NOT EXISTS Municipio (\n",
    "        municipio_id VARCHAR(6) PRIMARY KEY UNIQUE,\n",
    "        municipio_nome VARCHAR(100)\n",
    "    );\n",
    "\"\"\"\n",
    "\n",
    "sql_create_estabelecimento = \"\"\"\n",
    "    CREATE TABLE IF NOT EXISTS Estabelecimento (\n",
    "        cnes_id VARCHAR(7) PRIMARY KEY UNIQUE,\n",
    "        cnpj VARCHAR(15),\n",
    "        municipio_id VARCHAR(6) REFERENCES Municipio(municipio_id)\n",
    "    );\n",
    "\"\"\"\n",
    "\n",
    "sql_create_procedimento = \"\"\"\n",
    "    CREATE TABLE IF NOT EXISTS Procedimento (\n",
    "        procedimento_id VARCHAR(10) PRIMARY KEY UNIQUE,\n",
    "        procedimento_nome VARCHAR(255)\n",
    "    );\n",
    "\"\"\"\n",
    "\n",
    "sql_create_cid = \"\"\"\n",
    "    CREATE TABLE IF NOT EXISTS Cid (\n",
    "        cid_id VARCHAR(4) PRIMARY KEY UNIQUE,\n",
    "        cid_nome VARCHAR(255)\n",
    "    );\n",
    "\"\"\"\n",
    "\n",
    "sql_create_pessoa = \"\"\"\n",
    "    CREATE TABLE IF NOT EXISTS Pessoa (\n",
    "        pessoa_id SERIAL PRIMARY KEY UNIQUE,\n",
    "        nasc DATE,\n",
    "        sexo VARCHAR(1),\n",
    "        idade NUMERIC(2),\n",
    "        raca_cor VARCHAR(4),\n",
    "        etnia VARCHAR(4),\n",
    "        cod_idade VARCHAR(1)\n",
    "    );\n",
    "\"\"\"\n",
    "\n",
    "sql_create_internamento = \"\"\"\n",
    "    CREATE TABLE IF NOT EXISTS Internamento (\n",
    "        internamento_id VARCHAR(13) PRIMARY KEY UNIQUE,\n",
    "        qt_diarias NUMERIC(3),\n",
    "        val_sh NUMERIC(13, 2),\n",
    "        val_sp NUMERIC(13, 2),\n",
    "        val_tot NUMERIC(14, 2),\n",
    "        dt_inter DATE,\n",
    "        morte NUMERIC(1),\n",
    "        cid_morte VARCHAR(4),\n",
    "        cnes_id VARCHAR(7) REFERENCES Estabelecimento(cnes_id),\n",
    "        procedimento_id VARCHAR(10) REFERENCES Procedimento(procedimento_id),\n",
    "        cid_id VARCHAR(4) REFERENCES Cid(cid_id),\n",
    "        pessoa_id INT REFERENCES Pessoa(pessoa_id)\n",
    "    );\n",
    "\"\"\"\n",
    "\n",
    "if conn is not None and cur is not None:\n",
    "    try:\n",
    "        cur.execute(sql_create_municipio)\n",
    "        print(\"Tabela 'Municipio' criada com sucesso.\")\n",
    "\n",
    "        cur.execute(sql_create_estabelecimento)\n",
    "        print(\"Tabela 'Estabelecimento' criada com sucesso.\")\n",
    "\n",
    "        cur.execute(sql_create_procedimento)\n",
    "        print(\"Tabela 'Procedimento' criada com sucesso.\")\n",
    "\n",
    "        cur.execute(sql_create_cid)\n",
    "        print(\"Tabela 'Cid' criada com sucesso.\")\n",
    "\n",
    "        cur.execute(sql_create_pessoa)\n",
    "        print(\"Tabela 'Pessoa' criada com sucesso.\")\n",
    "\n",
    "        cur.execute(sql_create_internamento)\n",
    "        print(\"Tabela 'Internamento' criada com sucesso.\")\n",
    "\n",
    "        conn.commit()\n",
    "    except psycopg2.Error as e:\n",
    "        print(f\"Erro ao criar as tabelas: {e}\")\n",
    "        conn.rollback()"
   ]
  },
  {
   "cell_type": "markdown",
   "id": "2b152240",
   "metadata": {},
   "source": [
    "# Inserção nas tabelas"
   ]
  },
  {
   "cell_type": "markdown",
   "id": "de35428b",
   "metadata": {},
   "source": [
    "## Municipios"
   ]
  },
  {
   "cell_type": "code",
   "execution_count": 32,
   "id": "79fd39fe",
   "metadata": {},
   "outputs": [
    {
     "name": "stdout",
     "output_type": "stream",
     "text": [
      "Arquivo CSV 'data/municipios_tratado.csv' lido com sucesso.\n"
     ]
    }
   ],
   "source": [
    "df_municipios = get_dataframe_from_csv('data/municipios_tratado.csv')"
   ]
  },
  {
   "cell_type": "code",
   "execution_count": null,
   "id": "ba309c33",
   "metadata": {},
   "outputs": [],
   "source": []
  },
  {
   "cell_type": "markdown",
   "id": "b72afb65",
   "metadata": {},
   "source": [
    "## Estabelecimentos"
   ]
  },
  {
   "cell_type": "code",
   "execution_count": 55,
   "id": "2f5f1aee",
   "metadata": {},
   "outputs": [
    {
     "name": "stdout",
     "output_type": "stream",
     "text": [
      "Arquivo CSV 'data/CNES_tratado.csv' lido com sucesso.\n"
     ]
    }
   ],
   "source": [
    "df_estabelecimentos = get_dataframe_from_csv('data/CNES_tratado.csv')"
   ]
  },
  {
   "cell_type": "markdown",
   "id": "b0c8114f",
   "metadata": {},
   "source": [
    "## Procedimentos"
   ]
  },
  {
   "cell_type": "code",
   "execution_count": 60,
   "id": "16ce7784",
   "metadata": {},
   "outputs": [
    {
     "name": "stdout",
     "output_type": "stream",
     "text": [
      "Arquivo CSV 'data/procedimentos_tratado.csv' lido com sucesso.\n"
     ]
    }
   ],
   "source": [
    "df_procedimentos = get_dataframe_from_csv('data/procedimentos_tratado.csv', delimiter=';')"
   ]
  },
  {
   "cell_type": "markdown",
   "id": "7242eca6",
   "metadata": {},
   "source": [
    "## Cid"
   ]
  },
  {
   "cell_type": "code",
   "execution_count": 62,
   "id": "ada325ac",
   "metadata": {},
   "outputs": [
    {
     "name": "stdout",
     "output_type": "stream",
     "text": [
      "Arquivo CSV 'data/cid_tratado.csv' lido com sucesso.\n"
     ]
    }
   ],
   "source": [
    "df_cid = get_dataframe_from_csv('data/cid_tratado.csv', delimiter=';')"
   ]
  },
  {
   "cell_type": "markdown",
   "id": "ae369581",
   "metadata": {},
   "source": [
    "## Pessoa e Internamento\n",
    "\n",
    "O dataframe para pessoa e internamento é o mesmo."
   ]
  },
  {
   "cell_type": "code",
   "execution_count": 69,
   "id": "b52dabf0",
   "metadata": {},
   "outputs": [
    {
     "name": "stdout",
     "output_type": "stream",
     "text": [
      "Arquivo CSV 'data/arquivo_500linhas.csv' lido com sucesso.\n"
     ]
    }
   ],
   "source": [
    "DEBUG = True\n",
    "\n",
    "anos = [2019, 2020, 2021, 2022, 2023, 2024]\n",
    "\n",
    "df_internamentos_list = []\n",
    "\n",
    "if DEBUG:\n",
    "    df_internamento = get_dataframe_from_csv('data/arquivo_500linhas.csv')\n",
    "    df_internamentos_list.append(df_internamento)\n",
    "else:\n",
    "    for ano in anos:\n",
    "        df_internamento = get_dataframe_from_csv(f'data/{ano}.csv')\n",
    "        df_internamentos_list.append(df_internamento)\n"
   ]
  },
  {
   "cell_type": "markdown",
   "id": "896dcf06",
   "metadata": {},
   "source": [
    "### Pessoa"
   ]
  },
  {
   "cell_type": "markdown",
   "id": "c40b522a",
   "metadata": {},
   "source": [
    "### Internamento"
   ]
  },
  {
   "cell_type": "code",
   "execution_count": 70,
   "id": "834e73d4",
   "metadata": {},
   "outputs": [
    {
     "name": "stdout",
     "output_type": "stream",
     "text": [
      "Conexão com o PostgreSQL encerrada.\n"
     ]
    },
    {
     "ename": "FileNotFoundError",
     "evalue": "[Errno 2] No such file or directory: 'arquivo_500linhas.csv'",
     "output_type": "error",
     "traceback": [
      "\u001b[31m---------------------------------------------------------------------------\u001b[39m",
      "\u001b[31mFileNotFoundError\u001b[39m                         Traceback (most recent call last)",
      "\u001b[36mCell\u001b[39m\u001b[36m \u001b[39m\u001b[32mIn[70]\u001b[39m\u001b[32m, line 15\u001b[39m\n\u001b[32m     13\u001b[39m \u001b[38;5;28;01mif\u001b[39;00m conn:\n\u001b[32m     14\u001b[39m     \u001b[38;5;28;01mtry\u001b[39;00m:\n\u001b[32m---> \u001b[39m\u001b[32m15\u001b[39m         df = \u001b[43mpd\u001b[49m\u001b[43m.\u001b[49m\u001b[43mread_csv\u001b[49m\u001b[43m(\u001b[49m\u001b[33;43m'\u001b[39;49m\u001b[33;43marquivo_500linhas.csv\u001b[39;49m\u001b[33;43m'\u001b[39;49m\u001b[43m)\u001b[49m\n\u001b[32m     17\u001b[39m         \u001b[38;5;28;01mfor\u001b[39;00m cnes \u001b[38;5;129;01min\u001b[39;00m df[\u001b[33m'\u001b[39m\u001b[33mCNES\u001b[39m\u001b[33m'\u001b[39m].unique():\n\u001b[32m     18\u001b[39m             cur.execute(sql_insert_estabelecimento, (\u001b[38;5;28mint\u001b[39m(cnes),))\n",
      "\u001b[36mFile \u001b[39m\u001b[32mc:\\Users\\duike\\OneDrive\\Documentos\\datasus_PE\\.venv\\Lib\\site-packages\\pandas\\io\\parsers\\readers.py:1026\u001b[39m, in \u001b[36mread_csv\u001b[39m\u001b[34m(filepath_or_buffer, sep, delimiter, header, names, index_col, usecols, dtype, engine, converters, true_values, false_values, skipinitialspace, skiprows, skipfooter, nrows, na_values, keep_default_na, na_filter, verbose, skip_blank_lines, parse_dates, infer_datetime_format, keep_date_col, date_parser, date_format, dayfirst, cache_dates, iterator, chunksize, compression, thousands, decimal, lineterminator, quotechar, quoting, doublequote, escapechar, comment, encoding, encoding_errors, dialect, on_bad_lines, delim_whitespace, low_memory, memory_map, float_precision, storage_options, dtype_backend)\u001b[39m\n\u001b[32m   1013\u001b[39m kwds_defaults = _refine_defaults_read(\n\u001b[32m   1014\u001b[39m     dialect,\n\u001b[32m   1015\u001b[39m     delimiter,\n\u001b[32m   (...)\u001b[39m\u001b[32m   1022\u001b[39m     dtype_backend=dtype_backend,\n\u001b[32m   1023\u001b[39m )\n\u001b[32m   1024\u001b[39m kwds.update(kwds_defaults)\n\u001b[32m-> \u001b[39m\u001b[32m1026\u001b[39m \u001b[38;5;28;01mreturn\u001b[39;00m \u001b[43m_read\u001b[49m\u001b[43m(\u001b[49m\u001b[43mfilepath_or_buffer\u001b[49m\u001b[43m,\u001b[49m\u001b[43m \u001b[49m\u001b[43mkwds\u001b[49m\u001b[43m)\u001b[49m\n",
      "\u001b[36mFile \u001b[39m\u001b[32mc:\\Users\\duike\\OneDrive\\Documentos\\datasus_PE\\.venv\\Lib\\site-packages\\pandas\\io\\parsers\\readers.py:620\u001b[39m, in \u001b[36m_read\u001b[39m\u001b[34m(filepath_or_buffer, kwds)\u001b[39m\n\u001b[32m    617\u001b[39m _validate_names(kwds.get(\u001b[33m\"\u001b[39m\u001b[33mnames\u001b[39m\u001b[33m\"\u001b[39m, \u001b[38;5;28;01mNone\u001b[39;00m))\n\u001b[32m    619\u001b[39m \u001b[38;5;66;03m# Create the parser.\u001b[39;00m\n\u001b[32m--> \u001b[39m\u001b[32m620\u001b[39m parser = \u001b[43mTextFileReader\u001b[49m\u001b[43m(\u001b[49m\u001b[43mfilepath_or_buffer\u001b[49m\u001b[43m,\u001b[49m\u001b[43m \u001b[49m\u001b[43m*\u001b[49m\u001b[43m*\u001b[49m\u001b[43mkwds\u001b[49m\u001b[43m)\u001b[49m\n\u001b[32m    622\u001b[39m \u001b[38;5;28;01mif\u001b[39;00m chunksize \u001b[38;5;129;01mor\u001b[39;00m iterator:\n\u001b[32m    623\u001b[39m     \u001b[38;5;28;01mreturn\u001b[39;00m parser\n",
      "\u001b[36mFile \u001b[39m\u001b[32mc:\\Users\\duike\\OneDrive\\Documentos\\datasus_PE\\.venv\\Lib\\site-packages\\pandas\\io\\parsers\\readers.py:1620\u001b[39m, in \u001b[36mTextFileReader.__init__\u001b[39m\u001b[34m(self, f, engine, **kwds)\u001b[39m\n\u001b[32m   1617\u001b[39m     \u001b[38;5;28mself\u001b[39m.options[\u001b[33m\"\u001b[39m\u001b[33mhas_index_names\u001b[39m\u001b[33m\"\u001b[39m] = kwds[\u001b[33m\"\u001b[39m\u001b[33mhas_index_names\u001b[39m\u001b[33m\"\u001b[39m]\n\u001b[32m   1619\u001b[39m \u001b[38;5;28mself\u001b[39m.handles: IOHandles | \u001b[38;5;28;01mNone\u001b[39;00m = \u001b[38;5;28;01mNone\u001b[39;00m\n\u001b[32m-> \u001b[39m\u001b[32m1620\u001b[39m \u001b[38;5;28mself\u001b[39m._engine = \u001b[38;5;28;43mself\u001b[39;49m\u001b[43m.\u001b[49m\u001b[43m_make_engine\u001b[49m\u001b[43m(\u001b[49m\u001b[43mf\u001b[49m\u001b[43m,\u001b[49m\u001b[43m \u001b[49m\u001b[38;5;28;43mself\u001b[39;49m\u001b[43m.\u001b[49m\u001b[43mengine\u001b[49m\u001b[43m)\u001b[49m\n",
      "\u001b[36mFile \u001b[39m\u001b[32mc:\\Users\\duike\\OneDrive\\Documentos\\datasus_PE\\.venv\\Lib\\site-packages\\pandas\\io\\parsers\\readers.py:1880\u001b[39m, in \u001b[36mTextFileReader._make_engine\u001b[39m\u001b[34m(self, f, engine)\u001b[39m\n\u001b[32m   1878\u001b[39m     \u001b[38;5;28;01mif\u001b[39;00m \u001b[33m\"\u001b[39m\u001b[33mb\u001b[39m\u001b[33m\"\u001b[39m \u001b[38;5;129;01mnot\u001b[39;00m \u001b[38;5;129;01min\u001b[39;00m mode:\n\u001b[32m   1879\u001b[39m         mode += \u001b[33m\"\u001b[39m\u001b[33mb\u001b[39m\u001b[33m\"\u001b[39m\n\u001b[32m-> \u001b[39m\u001b[32m1880\u001b[39m \u001b[38;5;28mself\u001b[39m.handles = \u001b[43mget_handle\u001b[49m\u001b[43m(\u001b[49m\n\u001b[32m   1881\u001b[39m \u001b[43m    \u001b[49m\u001b[43mf\u001b[49m\u001b[43m,\u001b[49m\n\u001b[32m   1882\u001b[39m \u001b[43m    \u001b[49m\u001b[43mmode\u001b[49m\u001b[43m,\u001b[49m\n\u001b[32m   1883\u001b[39m \u001b[43m    \u001b[49m\u001b[43mencoding\u001b[49m\u001b[43m=\u001b[49m\u001b[38;5;28;43mself\u001b[39;49m\u001b[43m.\u001b[49m\u001b[43moptions\u001b[49m\u001b[43m.\u001b[49m\u001b[43mget\u001b[49m\u001b[43m(\u001b[49m\u001b[33;43m\"\u001b[39;49m\u001b[33;43mencoding\u001b[39;49m\u001b[33;43m\"\u001b[39;49m\u001b[43m,\u001b[49m\u001b[43m \u001b[49m\u001b[38;5;28;43;01mNone\u001b[39;49;00m\u001b[43m)\u001b[49m\u001b[43m,\u001b[49m\n\u001b[32m   1884\u001b[39m \u001b[43m    \u001b[49m\u001b[43mcompression\u001b[49m\u001b[43m=\u001b[49m\u001b[38;5;28;43mself\u001b[39;49m\u001b[43m.\u001b[49m\u001b[43moptions\u001b[49m\u001b[43m.\u001b[49m\u001b[43mget\u001b[49m\u001b[43m(\u001b[49m\u001b[33;43m\"\u001b[39;49m\u001b[33;43mcompression\u001b[39;49m\u001b[33;43m\"\u001b[39;49m\u001b[43m,\u001b[49m\u001b[43m \u001b[49m\u001b[38;5;28;43;01mNone\u001b[39;49;00m\u001b[43m)\u001b[49m\u001b[43m,\u001b[49m\n\u001b[32m   1885\u001b[39m \u001b[43m    \u001b[49m\u001b[43mmemory_map\u001b[49m\u001b[43m=\u001b[49m\u001b[38;5;28;43mself\u001b[39;49m\u001b[43m.\u001b[49m\u001b[43moptions\u001b[49m\u001b[43m.\u001b[49m\u001b[43mget\u001b[49m\u001b[43m(\u001b[49m\u001b[33;43m\"\u001b[39;49m\u001b[33;43mmemory_map\u001b[39;49m\u001b[33;43m\"\u001b[39;49m\u001b[43m,\u001b[49m\u001b[43m \u001b[49m\u001b[38;5;28;43;01mFalse\u001b[39;49;00m\u001b[43m)\u001b[49m\u001b[43m,\u001b[49m\n\u001b[32m   1886\u001b[39m \u001b[43m    \u001b[49m\u001b[43mis_text\u001b[49m\u001b[43m=\u001b[49m\u001b[43mis_text\u001b[49m\u001b[43m,\u001b[49m\n\u001b[32m   1887\u001b[39m \u001b[43m    \u001b[49m\u001b[43merrors\u001b[49m\u001b[43m=\u001b[49m\u001b[38;5;28;43mself\u001b[39;49m\u001b[43m.\u001b[49m\u001b[43moptions\u001b[49m\u001b[43m.\u001b[49m\u001b[43mget\u001b[49m\u001b[43m(\u001b[49m\u001b[33;43m\"\u001b[39;49m\u001b[33;43mencoding_errors\u001b[39;49m\u001b[33;43m\"\u001b[39;49m\u001b[43m,\u001b[49m\u001b[43m \u001b[49m\u001b[33;43m\"\u001b[39;49m\u001b[33;43mstrict\u001b[39;49m\u001b[33;43m\"\u001b[39;49m\u001b[43m)\u001b[49m\u001b[43m,\u001b[49m\n\u001b[32m   1888\u001b[39m \u001b[43m    \u001b[49m\u001b[43mstorage_options\u001b[49m\u001b[43m=\u001b[49m\u001b[38;5;28;43mself\u001b[39;49m\u001b[43m.\u001b[49m\u001b[43moptions\u001b[49m\u001b[43m.\u001b[49m\u001b[43mget\u001b[49m\u001b[43m(\u001b[49m\u001b[33;43m\"\u001b[39;49m\u001b[33;43mstorage_options\u001b[39;49m\u001b[33;43m\"\u001b[39;49m\u001b[43m,\u001b[49m\u001b[43m \u001b[49m\u001b[38;5;28;43;01mNone\u001b[39;49;00m\u001b[43m)\u001b[49m\u001b[43m,\u001b[49m\n\u001b[32m   1889\u001b[39m \u001b[43m\u001b[49m\u001b[43m)\u001b[49m\n\u001b[32m   1890\u001b[39m \u001b[38;5;28;01massert\u001b[39;00m \u001b[38;5;28mself\u001b[39m.handles \u001b[38;5;129;01mis\u001b[39;00m \u001b[38;5;129;01mnot\u001b[39;00m \u001b[38;5;28;01mNone\u001b[39;00m\n\u001b[32m   1891\u001b[39m f = \u001b[38;5;28mself\u001b[39m.handles.handle\n",
      "\u001b[36mFile \u001b[39m\u001b[32mc:\\Users\\duike\\OneDrive\\Documentos\\datasus_PE\\.venv\\Lib\\site-packages\\pandas\\io\\common.py:873\u001b[39m, in \u001b[36mget_handle\u001b[39m\u001b[34m(path_or_buf, mode, encoding, compression, memory_map, is_text, errors, storage_options)\u001b[39m\n\u001b[32m    868\u001b[39m \u001b[38;5;28;01melif\u001b[39;00m \u001b[38;5;28misinstance\u001b[39m(handle, \u001b[38;5;28mstr\u001b[39m):\n\u001b[32m    869\u001b[39m     \u001b[38;5;66;03m# Check whether the filename is to be opened in binary mode.\u001b[39;00m\n\u001b[32m    870\u001b[39m     \u001b[38;5;66;03m# Binary mode does not support 'encoding' and 'newline'.\u001b[39;00m\n\u001b[32m    871\u001b[39m     \u001b[38;5;28;01mif\u001b[39;00m ioargs.encoding \u001b[38;5;129;01mand\u001b[39;00m \u001b[33m\"\u001b[39m\u001b[33mb\u001b[39m\u001b[33m\"\u001b[39m \u001b[38;5;129;01mnot\u001b[39;00m \u001b[38;5;129;01min\u001b[39;00m ioargs.mode:\n\u001b[32m    872\u001b[39m         \u001b[38;5;66;03m# Encoding\u001b[39;00m\n\u001b[32m--> \u001b[39m\u001b[32m873\u001b[39m         handle = \u001b[38;5;28;43mopen\u001b[39;49m\u001b[43m(\u001b[49m\n\u001b[32m    874\u001b[39m \u001b[43m            \u001b[49m\u001b[43mhandle\u001b[49m\u001b[43m,\u001b[49m\n\u001b[32m    875\u001b[39m \u001b[43m            \u001b[49m\u001b[43mioargs\u001b[49m\u001b[43m.\u001b[49m\u001b[43mmode\u001b[49m\u001b[43m,\u001b[49m\n\u001b[32m    876\u001b[39m \u001b[43m            \u001b[49m\u001b[43mencoding\u001b[49m\u001b[43m=\u001b[49m\u001b[43mioargs\u001b[49m\u001b[43m.\u001b[49m\u001b[43mencoding\u001b[49m\u001b[43m,\u001b[49m\n\u001b[32m    877\u001b[39m \u001b[43m            \u001b[49m\u001b[43merrors\u001b[49m\u001b[43m=\u001b[49m\u001b[43merrors\u001b[49m\u001b[43m,\u001b[49m\n\u001b[32m    878\u001b[39m \u001b[43m            \u001b[49m\u001b[43mnewline\u001b[49m\u001b[43m=\u001b[49m\u001b[33;43m\"\u001b[39;49m\u001b[33;43m\"\u001b[39;49m\u001b[43m,\u001b[49m\n\u001b[32m    879\u001b[39m \u001b[43m        \u001b[49m\u001b[43m)\u001b[49m\n\u001b[32m    880\u001b[39m     \u001b[38;5;28;01melse\u001b[39;00m:\n\u001b[32m    881\u001b[39m         \u001b[38;5;66;03m# Binary mode\u001b[39;00m\n\u001b[32m    882\u001b[39m         handle = \u001b[38;5;28mopen\u001b[39m(handle, ioargs.mode)\n",
      "\u001b[31mFileNotFoundError\u001b[39m: [Errno 2] No such file or directory: 'arquivo_500linhas.csv'"
     ]
    }
   ],
   "source": [
    "sql_insert_municipio = \"INSERT INTO Municipio (municipio_id) VALUES (%s) ON CONFLICT (municipio_id) DO NOTHING;\"\n",
    "sql_insert_estabelecimento = \"INSERT INTO Estabelecimento (cnes_id) VALUES (%s) ON CONFLICT (cnes_id) DO NOTHING;\"\n",
    "sql_insert_procedimento = \"INSERT INTO Procedimento (procedimento_id) VALUES (%s) ON CONFLICT (procedimento_id) DO NOTHING;\"\n",
    "sql_insert_cid = \"INSERT INTO Cid (cid_id) VALUES (%s) ON CONFLICT (cid_id) DO NOTHING;\"\n",
    "sql_insert_pessoa = \"INSERT INTO Pessoa (nasc, sexo, idade, raca_cor, etnia) VALUES (%s, %s, %s, %s, %s) RETURNING pessoa_id;\"\n",
    "sql_insert_internamento = \"\"\"\n",
    "    INSERT INTO Internamento (\n",
    "        internamento_id, qt_diarias, val_sh, val_sp, val_tot, dt_inter, morte, cid_morte,\n",
    "        cnes_id, procedimento_id, cid_id, pessoa_id\n",
    "    ) VALUES (%s, %s, %s, %s, %s, %s, %s, %s, %s, %s, %s, %s);\n",
    "\"\"\"\n",
    "try:\n",
    "    if conn:\n",
    "        try:\n",
    "            df = pd.read_csv('arquivo_500linhas.csv')\n",
    "\n",
    "            for cnes in df['CNES'].unique():\n",
    "                cur.execute(sql_insert_estabelecimento, (int(cnes),))\n",
    "\n",
    "            for proc in df['PROC_REA'].unique():\n",
    "                cur.execute(sql_insert_procedimento, (str(proc),))\n",
    "\n",
    "            for cid in df['DIAG_PRINC'].unique():\n",
    "                if pd.notna(cid) and cid != '0':\n",
    "                    cur.execute(sql_insert_cid, (str(cid),))\n",
    "\n",
    "            conn.commit()\n",
    "\n",
    "            for index, row in df.iterrows():\n",
    "                cur.execute(\n",
    "                    sql_insert_pessoa,\n",
    "                    (int(row['NASC']), int(row['SEXO']), int(row['IDADE']), str(row['RACA_COR']), str(row['ETNIA']))\n",
    "                )\n",
    "                pessoa_id = cur.fetchone()[0]\n",
    "\n",
    "                cur.execute(\n",
    "                    sql_insert_internamento,\n",
    "                    (\n",
    "                        int(row['N_AIH']), int(row['QT_DIARIAS']), row['VAL_SH'], row['VAL_SP'], row['VAL_TOT'],\n",
    "                        int(row['DT_INTER']), int(row['MORTE']), str(row['CID_MORTE']), int(row['CNES']),\n",
    "                        str(row['PROC_REA']), str(row['DIAG_PRINC']), pessoa_id\n",
    "                    )\n",
    "                )\n",
    "\n",
    "            conn.commit()\n",
    "\n",
    "        except psycopg2.Error as e:\n",
    "            print(f\"Erro ao inserir dados: {e}\")\n",
    "            conn.rollback()\n",
    "\n",
    "finally:\n",
    "    if cur:\n",
    "        cur.close()\n",
    "    if conn:\n",
    "        conn.close()\n",
    "        print(\"Conexão com o PostgreSQL encerrada.\")\n"
   ]
  }
 ],
 "metadata": {
  "kernelspec": {
   "display_name": ".venv (3.12.3)",
   "language": "python",
   "name": "python3"
  },
  "language_info": {
   "codemirror_mode": {
    "name": "ipython",
    "version": 3
   },
   "file_extension": ".py",
   "mimetype": "text/x-python",
   "name": "python",
   "nbconvert_exporter": "python",
   "pygments_lexer": "ipython3",
   "version": "3.12.3"
  }
 },
 "nbformat": 4,
 "nbformat_minor": 5
}
