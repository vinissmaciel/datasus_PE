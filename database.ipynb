{
 "cells": [
  {
   "cell_type": "markdown",
   "id": "189be886",
   "metadata": {},
   "source": [
    "# Biblioteca"
   ]
  },
  {
   "cell_type": "code",
   "execution_count": 52,
   "id": "6fa6d40a",
   "metadata": {},
   "outputs": [
    {
     "name": "stdout",
     "output_type": "stream",
     "text": [
      "Requirement already satisfied: psycopg2-binary in c:\\users\\duike\\onedrive\\documentos\\datasus_pe\\.venv\\lib\\site-packages (2.9.10)\n"
     ]
    },
    {
     "name": "stderr",
     "output_type": "stream",
     "text": [
      "\n",
      "[notice] A new release of pip is available: 24.0 -> 25.2\n",
      "[notice] To update, run: python.exe -m pip install --upgrade pip\n"
     ]
    },
    {
     "name": "stdout",
     "output_type": "stream",
     "text": [
      "Requirement already satisfied: sqlalchemy in c:\\users\\duike\\onedrive\\documentos\\datasus_pe\\.venv\\lib\\site-packages (2.0.43)\n",
      "Requirement already satisfied: sqlalchemy-schemadisplay in c:\\users\\duike\\onedrive\\documentos\\datasus_pe\\.venv\\lib\\site-packages (2.0)\n",
      "Requirement already satisfied: pydot in c:\\users\\duike\\onedrive\\documentos\\datasus_pe\\.venv\\lib\\site-packages (4.0.1)\n",
      "Requirement already satisfied: greenlet>=1 in c:\\users\\duike\\onedrive\\documentos\\datasus_pe\\.venv\\lib\\site-packages (from sqlalchemy) (3.2.4)\n",
      "Requirement already satisfied: typing-extensions>=4.6.0 in c:\\users\\duike\\onedrive\\documentos\\datasus_pe\\.venv\\lib\\site-packages (from sqlalchemy) (4.15.0)\n",
      "Requirement already satisfied: setuptools in c:\\users\\duike\\onedrive\\documentos\\datasus_pe\\.venv\\lib\\site-packages (from sqlalchemy-schemadisplay) (80.9.0)\n",
      "Requirement already satisfied: Pillow in c:\\users\\duike\\onedrive\\documentos\\datasus_pe\\.venv\\lib\\site-packages (from sqlalchemy-schemadisplay) (11.3.0)\n",
      "Requirement already satisfied: pyparsing>=3.1.0 in c:\\users\\duike\\onedrive\\documentos\\datasus_pe\\.venv\\lib\\site-packages (from pydot) (3.2.5)\n"
     ]
    },
    {
     "name": "stderr",
     "output_type": "stream",
     "text": [
      "\n",
      "[notice] A new release of pip is available: 24.0 -> 25.2\n",
      "[notice] To update, run: python.exe -m pip install --upgrade pip\n"
     ]
    },
    {
     "name": "stdout",
     "output_type": "stream",
     "text": [
      "Requirement already satisfied: pydot in c:\\users\\duike\\onedrive\\documentos\\datasus_pe\\.venv\\lib\\site-packages (4.0.1)\n",
      "Requirement already satisfied: pyparsing>=3.1.0 in c:\\users\\duike\\onedrive\\documentos\\datasus_pe\\.venv\\lib\\site-packages (from pydot) (3.2.5)\n"
     ]
    },
    {
     "name": "stderr",
     "output_type": "stream",
     "text": [
      "\n",
      "[notice] A new release of pip is available: 24.0 -> 25.2\n",
      "[notice] To update, run: python.exe -m pip install --upgrade pip\n"
     ]
    }
   ],
   "source": [
    "!pip install psycopg2-binary\n",
    "!pip install sqlalchemy sqlalchemy-schemadisplay pydot\n",
    "!pip install pydot\n",
    "import psycopg2\n",
    "import pandas as pd\n",
    "from pathlib import Path\n"
   ]
  },
  {
   "cell_type": "markdown",
   "id": "8061eda3",
   "metadata": {},
   "source": [
    "# Utilidades"
   ]
  },
  {
   "cell_type": "code",
   "execution_count": 53,
   "id": "93714f52",
   "metadata": {},
   "outputs": [],
   "source": [
    "def get_dataframe_from_csv(file_path, delimiter=','):\n",
    "    try:\n",
    "        df = pd.read_csv(file_path, dtype=str, delimiter=delimiter)\n",
    "        print(f\"Arquivo CSV '{file_path}' lido com sucesso.\")\n",
    "        return df\n",
    "    except Exception as e:\n",
    "        print(f\"Erro ao ler o arquivo CSV: {e}\")\n",
    "        return pd.DataFrame()\n",
    "    \n",
    "def insert_dataframe_to_table(conn, cur, df, sql_query, columns, table_name):\n",
    "    \"\"\"\n",
    "    Insere dados de um DataFrame em uma tabela.\n",
    "    \n",
    "    Args:\n",
    "        conn: Conexão com o banco\n",
    "        cur: Cursor do banco\n",
    "        df: DataFrame com os dados\n",
    "        sql_query: Query SQL de inserção\n",
    "        columns: Lista com nomes das colunas do DataFrame\n",
    "        table_name: Nome da tabela para mensagens\n",
    "    \"\"\"\n",
    "    if conn is not None and cur is not None and not df.empty:\n",
    "        try:\n",
    "            data_tuples = [tuple(row[col] for col in columns) for _, row in df.iterrows()]\n",
    "            cur.executemany(sql_query, data_tuples)\n",
    "            conn.commit()\n",
    "            print(f\"Dados inseridos na tabela '{table_name}' com sucesso. ({len(data_tuples)} registros)\")\n",
    "            return True\n",
    "        except psycopg2.Error as e:\n",
    "            print(f\"Erro ao inserir dados na tabela '{table_name}': {e}\")\n",
    "            conn.rollback()\n",
    "            return False\n",
    "    else:\n",
    "        print(f\"Não foi possível inserir dados na tabela '{table_name}': conexão inválida ou DataFrame vazio.\")\n",
    "        return False"
   ]
  },
  {
   "cell_type": "markdown",
   "id": "524d4086",
   "metadata": {},
   "source": [
    "# Conexão"
   ]
  },
  {
   "cell_type": "code",
   "execution_count": 54,
   "id": "2e58b140",
   "metadata": {},
   "outputs": [
    {
     "name": "stdout",
     "output_type": "stream",
     "text": [
      "Conexão com o PostgreSQL bem-sucedida!\n"
     ]
    }
   ],
   "source": [
    "db_config = {\n",
    "    \"host\": \"localhost\",\n",
    "    \"port\": \"5432\",\n",
    "    \"database\": \"tebd_db\",\n",
    "    \"user\": \"tebd\",\n",
    "    \"password\": \"tebd\"\n",
    "}\n",
    "\n",
    "conn = None\n",
    "cur = None\n",
    "\n",
    "# --- Conectar ao Banco de Dados ---\n",
    "try:\n",
    "    conn = psycopg2.connect(**db_config)\n",
    "    print(\"Conexão com o PostgreSQL bem-sucedida!\")\n",
    "    cur = conn.cursor()\n",
    "except psycopg2.Error as e:\n",
    "    print(f\"Erro ao conectar ao PostgreSQL: {e}\")\n"
   ]
  },
  {
   "cell_type": "markdown",
   "id": "8a389dc0",
   "metadata": {},
   "source": [
    "# Criação das tabelas"
   ]
  },
  {
   "cell_type": "code",
   "execution_count": 55,
   "id": "edf03224",
   "metadata": {},
   "outputs": [
    {
     "name": "stdout",
     "output_type": "stream",
     "text": [
      "Tabela 'Municipio' criada com sucesso.\n",
      "Tabela 'Estabelecimento' criada com sucesso.\n",
      "Tabela 'Procedimento' criada com sucesso.\n",
      "Tabela 'Cid' criada com sucesso.\n",
      "Tabela 'Pessoa' criada com sucesso.\n",
      "Tabela 'Internamento' criada com sucesso.\n"
     ]
    }
   ],
   "source": [
    "sql_create_municipio = \"\"\"\n",
    "    CREATE TABLE IF NOT EXISTS Municipio (\n",
    "        municipio_id VARCHAR(6) PRIMARY KEY UNIQUE,\n",
    "        municipio_nome VARCHAR(100)\n",
    "    );\n",
    "\"\"\"\n",
    "\n",
    "sql_create_estabelecimento = \"\"\"\n",
    "    CREATE TABLE IF NOT EXISTS Estabelecimento (\n",
    "        cnes_id VARCHAR(7) PRIMARY KEY UNIQUE,\n",
    "        cnpj VARCHAR(15),\n",
    "        municipio_id VARCHAR(6) REFERENCES Municipio(municipio_id)\n",
    "    );\n",
    "\"\"\"\n",
    "\n",
    "sql_create_procedimento = \"\"\"\n",
    "    CREATE TABLE IF NOT EXISTS Procedimento (\n",
    "        procedimento_id VARCHAR(10) PRIMARY KEY UNIQUE,\n",
    "        procedimento_nome VARCHAR(255)\n",
    "    );\n",
    "\"\"\"\n",
    "\n",
    "sql_create_cid = \"\"\"\n",
    "    CREATE TABLE IF NOT EXISTS Cid (\n",
    "        cid_id VARCHAR(4) PRIMARY KEY UNIQUE,\n",
    "        cid_nome VARCHAR(500)\n",
    "    );\n",
    "\"\"\"\n",
    "\n",
    "sql_create_pessoa = \"\"\"\n",
    "    CREATE TABLE IF NOT EXISTS Pessoa (\n",
    "        pessoa_id SERIAL PRIMARY KEY UNIQUE,\n",
    "        nasc DATE,\n",
    "        sexo VARCHAR(1),\n",
    "        idade NUMERIC(2),\n",
    "        raca_cor VARCHAR(4),\n",
    "        etnia VARCHAR(4),\n",
    "        cod_idade VARCHAR(1)\n",
    "    );\n",
    "\"\"\"\n",
    "\n",
    "sql_create_internamento = \"\"\"\n",
    "    CREATE TABLE IF NOT EXISTS Internamento (\n",
    "        internamento_id VARCHAR(13) PRIMARY KEY UNIQUE,\n",
    "        qt_diarias NUMERIC(3),\n",
    "        val_sh NUMERIC(13, 2),\n",
    "        val_sp NUMERIC(13, 2),\n",
    "        val_tot NUMERIC(14, 2),\n",
    "        dt_inter DATE,\n",
    "        morte NUMERIC(1),\n",
    "        cid_morte VARCHAR(4),\n",
    "        cnes_id VARCHAR(7) REFERENCES Estabelecimento(cnes_id),\n",
    "        procedimento_id VARCHAR(10) REFERENCES Procedimento(procedimento_id),\n",
    "        cid_id VARCHAR(4) REFERENCES Cid(cid_id),\n",
    "        pessoa_id INT REFERENCES Pessoa(pessoa_id)\n",
    "    );\n",
    "\"\"\"\n",
    "\n",
    "if conn is not None and cur is not None:\n",
    "    try:\n",
    "        cur.execute(sql_create_municipio)\n",
    "        print(\"Tabela 'Municipio' criada com sucesso.\")\n",
    "\n",
    "        cur.execute(sql_create_estabelecimento)\n",
    "        print(\"Tabela 'Estabelecimento' criada com sucesso.\")\n",
    "\n",
    "        cur.execute(sql_create_procedimento)\n",
    "        print(\"Tabela 'Procedimento' criada com sucesso.\")\n",
    "\n",
    "        cur.execute(sql_create_cid)\n",
    "        print(\"Tabela 'Cid' criada com sucesso.\")\n",
    "\n",
    "        cur.execute(sql_create_pessoa)\n",
    "        print(\"Tabela 'Pessoa' criada com sucesso.\")\n",
    "\n",
    "        cur.execute(sql_create_internamento)\n",
    "        print(\"Tabela 'Internamento' criada com sucesso.\")\n",
    "\n",
    "        conn.commit()\n",
    "    except psycopg2.Error as e:\n",
    "        print(f\"Erro ao criar as tabelas: {e}\")\n",
    "        conn.rollback()"
   ]
  },
  {
   "cell_type": "markdown",
   "id": "2b152240",
   "metadata": {},
   "source": [
    "# Inserção nas tabelas"
   ]
  },
  {
   "cell_type": "markdown",
   "id": "de35428b",
   "metadata": {},
   "source": [
    "## Municipios"
   ]
  },
  {
   "cell_type": "code",
   "execution_count": 56,
   "id": "79fd39fe",
   "metadata": {},
   "outputs": [
    {
     "name": "stdout",
     "output_type": "stream",
     "text": [
      "Arquivo CSV 'data/municipios_tratado.csv' lido com sucesso.\n"
     ]
    }
   ],
   "source": [
    "df_municipios = get_dataframe_from_csv('data/municipios_tratado.csv')"
   ]
  },
  {
   "cell_type": "code",
   "execution_count": 57,
   "id": "ba309c33",
   "metadata": {},
   "outputs": [
    {
     "name": "stdout",
     "output_type": "stream",
     "text": [
      "Dados inseridos na tabela 'Municipio' com sucesso. (185 registros)\n"
     ]
    }
   ],
   "source": [
    "sql_insert_municipio = \"\"\"\n",
    "    INSERT INTO Municipio (municipio_id, municipio_nome)\n",
    "    VALUES (%s, %s)\n",
    "    ON CONFLICT (municipio_id) DO NOTHING;\n",
    "\"\"\"\n",
    "\n",
    "_ = insert_dataframe_to_table(\n",
    "    conn, cur, df_municipios, \n",
    "    sql_insert_municipio, \n",
    "    ['codigo', 'municipio'], \n",
    "    'Municipio'\n",
    ")"
   ]
  },
  {
   "cell_type": "markdown",
   "id": "b72afb65",
   "metadata": {},
   "source": [
    "## Estabelecimentos"
   ]
  },
  {
   "cell_type": "code",
   "execution_count": 58,
   "id": "2f5f1aee",
   "metadata": {},
   "outputs": [
    {
     "name": "stdout",
     "output_type": "stream",
     "text": [
      "Arquivo CSV 'data/CNES_tratado.csv' lido com sucesso.\n"
     ]
    }
   ],
   "source": [
    "df_estabelecimentos = get_dataframe_from_csv('data/CNES_tratado.csv')"
   ]
  },
  {
   "cell_type": "code",
   "execution_count": 59,
   "id": "3bc95ade",
   "metadata": {},
   "outputs": [
    {
     "name": "stdout",
     "output_type": "stream",
     "text": [
      "Dados inseridos na tabela 'Estabelecimento' com sucesso. (14586 registros)\n"
     ]
    }
   ],
   "source": [
    "sql_insert_estabelecimento = \"\"\"\n",
    "    INSERT INTO Estabelecimento (cnes_id, cnpj, municipio_id)\n",
    "    VALUES (%s, %s, %s)\n",
    "    ON CONFLICT (cnes_id) DO NOTHING;\n",
    "\"\"\"\n",
    "\n",
    "_ = insert_dataframe_to_table(\n",
    "    conn, cur, df_estabelecimentos, \n",
    "    sql_insert_estabelecimento, \n",
    "    ['CNES', 'CPF_CNPJ', 'CODUFMUN'], \n",
    "    'Estabelecimento'\n",
    ")"
   ]
  },
  {
   "cell_type": "markdown",
   "id": "b0c8114f",
   "metadata": {},
   "source": [
    "## Procedimentos"
   ]
  },
  {
   "cell_type": "code",
   "execution_count": 60,
   "id": "16ce7784",
   "metadata": {},
   "outputs": [
    {
     "name": "stdout",
     "output_type": "stream",
     "text": [
      "Arquivo CSV 'data/procedimentos_tratado.csv' lido com sucesso.\n"
     ]
    }
   ],
   "source": [
    "df_procedimentos = get_dataframe_from_csv('data/procedimentos_tratado.csv', delimiter=';')"
   ]
  },
  {
   "cell_type": "code",
   "execution_count": 61,
   "id": "687892fd",
   "metadata": {},
   "outputs": [
    {
     "name": "stdout",
     "output_type": "stream",
     "text": [
      "Dados inseridos na tabela 'Procedimento' com sucesso. (5286 registros)\n"
     ]
    }
   ],
   "source": [
    "sql_insert_procedimento = \"\"\"\n",
    "    INSERT INTO Procedimento (procedimento_id, procedimento_nome)\n",
    "    VALUES (%s, %s)\n",
    "    ON CONFLICT (procedimento_id) DO NOTHING;\n",
    "\"\"\"\n",
    "\n",
    "_ = insert_dataframe_to_table(\n",
    "    conn, cur, df_procedimentos, \n",
    "    sql_insert_procedimento, \n",
    "    ['codproc', 'nome'], \n",
    "    'Procedimento'\n",
    ")\n"
   ]
  },
  {
   "cell_type": "markdown",
   "id": "7242eca6",
   "metadata": {},
   "source": [
    "## Cid"
   ]
  },
  {
   "cell_type": "code",
   "execution_count": 62,
   "id": "ada325ac",
   "metadata": {},
   "outputs": [
    {
     "name": "stdout",
     "output_type": "stream",
     "text": [
      "Arquivo CSV 'data/cid_tratado.csv' lido com sucesso.\n"
     ]
    }
   ],
   "source": [
    "df_cid = get_dataframe_from_csv('data/cid_tratado.csv', delimiter=';')"
   ]
  },
  {
   "cell_type": "code",
   "execution_count": 63,
   "id": "1af0a066",
   "metadata": {},
   "outputs": [
    {
     "name": "stdout",
     "output_type": "stream",
     "text": [
      "Dados inseridos na tabela 'Cid' com sucesso. (14232 registros)\n"
     ]
    }
   ],
   "source": [
    "sql_insert_cid = \"\"\"\n",
    "    INSERT INTO Cid (cid_id, cid_nome)\n",
    "    VALUES (%s, %s)\n",
    "    ON CONFLICT (cid_id) DO NOTHING;\n",
    "\"\"\"\n",
    "_ = insert_dataframe_to_table(\n",
    "    conn, cur, df_cid,\n",
    "    sql_insert_cid,\n",
    "    ['codigo', 'descricao'],\n",
    "    'Cid'\n",
    ")"
   ]
  },
  {
   "cell_type": "markdown",
   "id": "ae369581",
   "metadata": {},
   "source": [
    "## Pessoa e Internamento\n",
    "\n",
    "O dataframe para pessoa e internamento é o mesmo."
   ]
  },
  {
   "cell_type": "code",
   "execution_count": 64,
   "id": "b52dabf0",
   "metadata": {},
   "outputs": [
    {
     "name": "stdout",
     "output_type": "stream",
     "text": [
      "Arquivo CSV 'data/sus/selected_data.csv' lido com sucesso.\n"
     ]
    }
   ],
   "source": [
    "DEBUG = False\n",
    "\n",
    "df_internamentos_list = []\n",
    "\n",
    "if DEBUG:\n",
    "    df_internamento = get_dataframe_from_csv('data/sus/selected_data_500lines.csv')\n",
    "    df_internamentos_list.append(df_internamento)\n",
    "else:\n",
    "    df_internamento = get_dataframe_from_csv('data/sus/selected_data.csv')\n",
    "    df_internamentos_list.append(df_internamento)\n"
   ]
  },
  {
   "cell_type": "code",
   "execution_count": 65,
   "id": "46ffe5d3",
   "metadata": {},
   "outputs": [],
   "source": [
    "cidid_list = df_cid['codigo'].tolist()\n",
    "procedimentoid_list = df_procedimentos['codproc'].tolist()\n",
    "\n",
    "cidid_internamento = df_internamento['CID_MORTE'].unique().tolist()\n",
    "procedimentoid_internamento = (\n",
    "    df_internamento['PROC_REA'].dropna().astype(str).unique().tolist()\n",
    ")\n",
    "\n",
    "procedimentoid_internamento = [\n",
    "    ''.join(filter(str.isdigit, p)).zfill(10)\n",
    "    for p in procedimentoid_internamento\n",
    "    if ''.join(filter(str.isdigit, p)) != ''\n",
    "]\n",
    "\n",
    "cidid_not_in_cid = [cid for cid in cidid_internamento if cid not in cidid_list]\n",
    "procedimentoid_not_in_procedimentos = [proc for proc in procedimentoid_internamento if proc not in procedimentoid_list]\n",
    "\n",
    "if cidid_not_in_cid:\n",
    "    print(f\"Códigos CID no internamento que não estão na tabela Cid: {cidid_not_in_cid}\")\n",
    "\n",
    "if procedimentoid_not_in_procedimentos:\n",
    "    df_proc_missing = pd.DataFrame({'procedimento_id': procedimentoid_not_in_procedimentos})\n",
    "    print(f\"Códigos Procedimento no internamento que não estão na tabela Procedimento ({len(df_proc_missing)}):\")\n",
    "    print(df_proc_missing['procedimento_id'].apply(lambda x: f\"{x:010}\").to_string(index=False))\n"
   ]
  },
  {
   "cell_type": "code",
   "execution_count": 66,
   "id": "7fd538a1",
   "metadata": {},
   "outputs": [
    {
     "name": "stdout",
     "output_type": "stream",
     "text": [
      "Dados inseridos na tabela 'Internamento' com sucesso. (3570342 registros)\n"
     ]
    }
   ],
   "source": [
    "sql_insert_pessoa = \"\"\"\n",
    "    INSERT INTO Pessoa (nasc, sexo, idade, raca_cor, etnia, cod_idade)\n",
    "    VALUES (%s, %s, %s, %s, %s, %s)\n",
    "    RETURNING pessoa_id;\n",
    "\"\"\"\n",
    "\n",
    "sql_insert_internamento = \"\"\"\n",
    "    INSERT INTO Internamento (\n",
    "        internamento_id, qt_diarias, val_sh, val_sp, val_tot, dt_inter, \n",
    "        morte, cid_morte, cnes_id, procedimento_id, cid_id, pessoa_id\n",
    "    )\n",
    "    VALUES (%s, %s, %s, %s, %s, %s, %s, %s, %s, %s, %s, %s)\n",
    "    ON CONFLICT (internamento_id) DO NOTHING;\n",
    "\"\"\"\n",
    "\n",
    "if conn is None or cur is None:\n",
    "    print(\"Conexão com o banco de dados não estabelecida. Não é possível inserir dados na tabela 'Internamento'.\")\n",
    "    exit(1)\n",
    "\n",
    "for df_internamento in df_internamentos_list:\n",
    "    if not df_internamento.empty:\n",
    "        try:\n",
    "            for _, row in df_internamento.iterrows():\n",
    "                cur.execute(sql_insert_pessoa, (\n",
    "                    row['NASC'], row['SEXO'], row['IDADE'], \n",
    "                    row['RACA_COR'], row['ETNIA'], row['COD_IDADE']\n",
    "                ))\n",
    "                pessoa_id = cur.fetchone()[0]\n",
    "\n",
    "                # Garantir que PROC_REA tenha sempre 10 dígitos\n",
    "                proc_rea = str(row['PROC_REA']).zfill(10)\n",
    "\n",
    "                cur.execute(sql_insert_internamento, (\n",
    "                    row['N_AIH'], row['QT_DIARIAS'], row['VAL_SH'], \n",
    "                    row['VAL_SP'], row['VAL_TOT'], row['DT_INTER'], \n",
    "                    row['MORTE'], row['CID_MORTE'], row['CNES'], \n",
    "                    proc_rea, row['DIAG_PRINC'], pessoa_id\n",
    "                ))\n",
    "            conn.commit()\n",
    "            print(f\"Dados inseridos na tabela 'Internamento' com sucesso. ({len(df_internamento)} registros)\")\n",
    "        except psycopg2.Error as e:\n",
    "            print(f\"Erro ao inserir dados na tabela 'Internamento': {e}\")\n",
    "            conn.rollback()\n",
    "    else:\n",
    "        print(f\"DataFrame: {df_internamento} está vazio. Nenhum dado será inserido na tabela 'Internamento'.\")\n"
   ]
  },
  {
   "cell_type": "markdown",
   "id": "ad517763",
   "metadata": {},
   "source": [
    "# Preview output"
   ]
  },
  {
   "cell_type": "code",
   "execution_count": 67,
   "id": "3f7ac031",
   "metadata": {},
   "outputs": [],
   "source": [
    "# Função para executar consultas e exibir resultados\n",
    "def execute_query_and_display(query, title, limit=10):\n",
    "    \"\"\"\n",
    "    Executa uma consulta SQL e exibe os resultados de forma formatada\n",
    "    \"\"\"\n",
    "    if conn is not None and cur is not None:\n",
    "        try:\n",
    "            cur.execute(query)\n",
    "            results = cur.fetchall()\n",
    "            columns = [desc[0] for desc in cur.description]\n",
    "            \n",
    "            print(f\"\\n{'='*60}\")\n",
    "            print(f\"{title}\")\n",
    "            print(f\"{'='*60}\")\n",
    "            \n",
    "            if results:\n",
    "                # Criar DataFrame para melhor visualização\n",
    "                df_result = pd.DataFrame(results, columns=columns)\n",
    "                print(f\"Total de registros: {len(df_result)}\")\n",
    "                print(f\"\\nPrimeiros {min(limit, len(df_result))} resultados:\")\n",
    "                print(df_result.head(limit).to_string(index=False))\n",
    "                return df_result\n",
    "            else:\n",
    "                print(\"Nenhum resultado encontrado.\")\n",
    "                return pd.DataFrame()\n",
    "        except psycopg2.Error as e:\n",
    "            print(f\"Erro ao executar consulta: {e}\")\n",
    "            return pd.DataFrame()\n",
    "    else:\n",
    "        print(\"Conexão com o banco não estabelecida.\")\n",
    "        return pd.DataFrame()"
   ]
  },
  {
   "cell_type": "markdown",
   "id": "d418660d",
   "metadata": {},
   "source": [
    "# Consultas Analíticas para Dashboard\n",
    "\n",
    "Aqui vamos criar várias consultas que demonstram diferentes perspectivas dos dados de internação do DATASUS, úteis para visualizações em dashboard."
   ]
  },
  {
   "cell_type": "markdown",
   "id": "d54c1117",
   "metadata": {},
   "source": [
    "## 1. Análise Temporal de Internações"
   ]
  },
  {
   "cell_type": "code",
   "execution_count": 68,
   "id": "2b5bbca2",
   "metadata": {},
   "outputs": [
    {
     "name": "stdout",
     "output_type": "stream",
     "text": [
      "\n",
      "============================================================\n",
      "INTERNAÇÕES POR PERÍODO\n",
      "============================================================\n",
      "Total de registros: 146\n",
      "\n",
      "Primeiros 10 resultados:\n",
      " ano mes  total_internacoes       media_diarias valor_total\n",
      "2008   1                  8 31.0000000000000000    12325.92\n",
      "2008   5                  2 31.0000000000000000     3081.48\n",
      "2008   9                  1 31.0000000000000000     1540.74\n",
      "2008  10                  1 31.0000000000000000     1540.74\n",
      "2009   2                  1 31.0000000000000000     1540.74\n",
      "2009   7                  1 31.0000000000000000     1540.74\n",
      "2010   1                 83 31.0000000000000000   133420.22\n",
      "2010   3                  1 31.0000000000000000     1540.74\n",
      "2010   4                  3 31.0000000000000000     4622.22\n",
      "2010   5                 15 31.0000000000000000    23594.70\n"
     ]
    }
   ],
   "source": [
    "# Internações por mês/ano\n",
    "query_internacoes_tempo = \"\"\"\n",
    "    SELECT \n",
    "        EXTRACT(YEAR FROM dt_inter) AS ano,\n",
    "        EXTRACT(MONTH FROM dt_inter) AS mes,\n",
    "        COUNT(*) AS total_internacoes,\n",
    "        AVG(qt_diarias) AS media_diarias,\n",
    "        SUM(val_tot) AS valor_total\n",
    "    FROM Internamento \n",
    "    WHERE dt_inter IS NOT NULL\n",
    "    GROUP BY EXTRACT(YEAR FROM dt_inter), EXTRACT(MONTH FROM dt_inter)\n",
    "    ORDER BY ano, mes;\n",
    "\"\"\"\n",
    "\n",
    "df_tempo = execute_query_and_display(query_internacoes_tempo, \"INTERNAÇÕES POR PERÍODO\")"
   ]
  },
  {
   "cell_type": "markdown",
   "id": "61ded736",
   "metadata": {},
   "source": [
    "## 2. Top Diagnósticos (CID) mais Frequentes"
   ]
  },
  {
   "cell_type": "code",
   "execution_count": 69,
   "id": "25b79b99",
   "metadata": {},
   "outputs": [
    {
     "name": "stdout",
     "output_type": "stream",
     "text": [
      "\n",
      "============================================================\n",
      "TOP 15 DIAGNÓSTICOS MAIS FREQUENTES\n",
      "============================================================\n",
      "Total de registros: 15\n",
      "\n",
      "Primeiros 10 resultados:\n",
      "cid_id                                                                           cid_nome  total_casos           valor_medio      media_diarias  obitos taxa_mortalidade_pct\n",
      "  O800                                                          Parto espontâneo cefálico       192428  600.0410718814309768 2.1261250961398549      44                 0.02\n",
      "  B342                           Infecção por coronavírus de localização não especificada       103743 6171.6600763425002169 5.9802010738073894   22168                21.37\n",
      "  O809                                           Parto único espontâneo, não especificado        69462  652.2115861910109124 2.2042843569145720       6                 0.01\n",
      "   I64         Acidente vascular cerebral, não especificado como hemorrágico ou isquêmico        62362 1155.1601233122734999 7.2392482601584298    8591                13.78\n",
      "  L989                         Afecções da pele e do tecido subcutâneo, não especificados        52366  575.1410919298781652 3.0194591910781805     252                 0.48\n",
      "  N390                         Infecção do trato urinário de localização não especificada        48128  608.7043066406250000 6.6755942486702128    1933                 4.02\n",
      "  Z302                                                                      Esterilização        42683  696.8318529625377785 1.7915329288006935       5                 0.01\n",
      "  O420 Ruptura prematura de membranas, com início do trabalho de parto dentro de 24 horas        40862  698.1668525769663746 2.2496206744652734      17                 0.04\n",
      "  J189                                                         Pneumonia não especificada        40599 1384.2069115002832582 6.7837877780240893    3202                 7.89\n",
      "  P599                                                Icterícia neonatal não especificada        29327  332.2345047226105636 3.3836737477409895      10                 0.03\n"
     ]
    }
   ],
   "source": [
    "# Top 15 diagnósticos mais frequentes\n",
    "query_top_cid = \"\"\"\n",
    "    SELECT \n",
    "        c.cid_id,\n",
    "        c.cid_nome,\n",
    "        COUNT(i.internamento_id) AS total_casos,\n",
    "        AVG(i.val_tot) AS valor_medio,\n",
    "        AVG(i.qt_diarias) AS media_diarias,\n",
    "        COUNT(CASE WHEN i.morte = 1 THEN 1 END) AS obitos,\n",
    "        ROUND(\n",
    "            (COUNT(CASE WHEN i.morte = 1 THEN 1 END) * 100.0 / COUNT(i.internamento_id)), 2\n",
    "        ) AS taxa_mortalidade_pct\n",
    "    FROM Cid c\n",
    "    JOIN Internamento i ON c.cid_id = i.cid_id\n",
    "    GROUP BY c.cid_id, c.cid_nome\n",
    "    ORDER BY total_casos DESC\n",
    "    LIMIT 15;\n",
    "\"\"\"\n",
    "\n",
    "df_top_cid = execute_query_and_display(query_top_cid, \"TOP 15 DIAGNÓSTICOS MAIS FREQUENTES\")"
   ]
  },
  {
   "cell_type": "markdown",
   "id": "05f6daa3",
   "metadata": {},
   "source": [
    "## 3. Análise por Faixa Etária e Sexo"
   ]
  },
  {
   "cell_type": "code",
   "execution_count": 70,
   "id": "c8348113",
   "metadata": {},
   "outputs": [
    {
     "name": "stdout",
     "output_type": "stream",
     "text": [
      "\n",
      "============================================================\n",
      "DISTRIBUIÇÃO POR FAIXA ETÁRIA E SEXO\n",
      "============================================================\n",
      "Total de registros: 10\n",
      "\n",
      "Primeiros 10 resultados:\n",
      "faixa_etaria          sexo  total_internacoes           valor_medio      media_diarias\n",
      "   0-17 anos Não informado             324386 1387.7574871911858095 4.2598663320858483\n",
      "   0-17 anos Não informado             308047 1297.1751305807230715 4.2063321506133804\n",
      "  18-39 anos Não informado             297496 1669.0441411985371232 5.2741986446876597\n",
      "  18-39 anos Não informado             859974  888.3506734622209509 3.1106231118615214\n",
      "  40-59 anos Não informado             371646 2191.2594759798302686 6.0003094342465680\n",
      "  40-59 anos Não informado             389775 1902.1108726316464627 4.7427387595407607\n",
      "  60-79 anos Não informado             363201 2463.8199788271508063 6.2301370315610365\n",
      "  60-79 anos Não informado             355753 2340.1334964427566317 5.8272621734742926\n",
      "    80+ anos Não informado              93920 2056.9774722103918228 6.3635966780238501\n",
      "    80+ anos Não informado             129581 2038.4381925590943117 6.5596653830422670\n"
     ]
    }
   ],
   "source": [
    "# Distribuição por faixa etária e sexo\n",
    "query_idade_sexo = \"\"\"\n",
    "    SELECT \n",
    "        CASE \n",
    "            WHEN p.idade BETWEEN 0 AND 17 THEN '0-17 anos'\n",
    "            WHEN p.idade BETWEEN 18 AND 39 THEN '18-39 anos'\n",
    "            WHEN p.idade BETWEEN 40 AND 59 THEN '40-59 anos'\n",
    "            WHEN p.idade BETWEEN 60 AND 79 THEN '60-79 anos'\n",
    "            WHEN p.idade >= 80 THEN '80+ anos'\n",
    "            ELSE 'Não informado'\n",
    "        END AS faixa_etaria,\n",
    "        CASE \n",
    "            WHEN p.sexo = 'M' THEN 'Masculino'\n",
    "            WHEN p.sexo = 'F' THEN 'Feminino'\n",
    "            ELSE 'Não informado'\n",
    "        END AS sexo,\n",
    "        COUNT(i.internamento_id) AS total_internacoes,\n",
    "        AVG(i.val_tot) AS valor_medio,\n",
    "        AVG(i.qt_diarias) AS media_diarias\n",
    "    FROM Pessoa p\n",
    "    JOIN Internamento i ON p.pessoa_id = i.pessoa_id\n",
    "    WHERE p.idade IS NOT NULL AND p.sexo IS NOT NULL\n",
    "    GROUP BY faixa_etaria, sexo\n",
    "    ORDER BY faixa_etaria, sexo;\n",
    "\"\"\"\n",
    "\n",
    "df_idade_sexo = execute_query_and_display(query_idade_sexo, \"DISTRIBUIÇÃO POR FAIXA ETÁRIA E SEXO\")"
   ]
  },
  {
   "cell_type": "markdown",
   "id": "e0efb665",
   "metadata": {},
   "source": [
    "## 4. Ranking de Municípios por Volume de Internações"
   ]
  },
  {
   "cell_type": "code",
   "execution_count": 71,
   "id": "f19bf672",
   "metadata": {},
   "outputs": [
    {
     "name": "stdout",
     "output_type": "stream",
     "text": [
      "\n",
      "============================================================\n",
      "TOP 10 MUNICÍPIOS POR VOLUME DE INTERNAÇÕES\n",
      "============================================================\n",
      "Total de registros: 10\n",
      "\n",
      "Primeiros 10 resultados:\n",
      "         municipio_nome  total_internacoes   valor_total valor_medio_internacao  num_estabelecimentos\n",
      "                 Recife            1795885 3864090209.39  2151.6356611865459091                    47\n",
      "                Caruaru             245593  314783859.30  1281.7297695781231550                    13\n",
      "              Petrolina             169038  184106500.81  1089.1426827695547747                    13\n",
      "Jaboatão dos Guararapes             133538  234369737.90  1755.0789880034147583                     8\n",
      "              Garanhuns              76682   72190657.74   941.4289890717508672                     6\n",
      "Cabo de Santo Agostinho              70735  141043413.01  1993.9692232982257722                     5\n",
      "               Paulista              70375   95182275.48  1352.5012501598579041                     9\n",
      "          Serra Talhada              69238   87835989.13  1268.6095659897744013                     7\n",
      "               Palmares              65735   82660495.69  1257.4807285312238534                     2\n",
      "              Arcoverde              65047   57731065.24   887.5284830968376712                     3\n"
     ]
    }
   ],
   "source": [
    "# Top 10 municípios com mais internações\n",
    "query_ranking_municipios = \"\"\"\n",
    "    SELECT \n",
    "        m.municipio_nome,\n",
    "        COUNT(i.internamento_id) AS total_internacoes,\n",
    "        SUM(i.val_tot) AS valor_total,\n",
    "        AVG(i.val_tot) AS valor_medio_internacao,\n",
    "        COUNT(DISTINCT e.cnes_id) AS num_estabelecimentos\n",
    "    FROM Municipio m\n",
    "    JOIN Estabelecimento e ON m.municipio_id = e.municipio_id\n",
    "    JOIN Internamento i ON e.cnes_id = i.cnes_id\n",
    "    GROUP BY m.municipio_id, m.municipio_nome\n",
    "    ORDER BY total_internacoes DESC\n",
    "    LIMIT 10;\n",
    "\"\"\"\n",
    "\n",
    "df_ranking_municipios = execute_query_and_display(query_ranking_municipios, \"TOP 10 MUNICÍPIOS POR VOLUME DE INTERNAÇÕES\")"
   ]
  },
  {
   "cell_type": "markdown",
   "id": "33e07f15",
   "metadata": {},
   "source": [
    "## 5. Análise de Procedimentos Mais Custosos"
   ]
  },
  {
   "cell_type": "code",
   "execution_count": 72,
   "id": "db2dbfd0",
   "metadata": {},
   "outputs": [
    {
     "name": "stdout",
     "output_type": "stream",
     "text": [
      "\n",
      "============================================================\n",
      "TOP 10 PROCEDIMENTOS MAIS CUSTOSOS\n",
      "============================================================\n",
      "Total de registros: 10\n",
      "\n",
      "Primeiros 10 resultados:\n",
      "                                                                                                                                                                                                                                         procedimento_nome  total_realizacoes valor_total_gasto valor_medio_procedimento media_dias_internacao\n",
      "TRATAMENTO C/ CIRURGIAS MULTIPLAS                                                                                                                                                                                                                                      193715      763846471.53    3943.1457116382314225    4.9449758666081615\n",
      "TRATAMENTO DE INFECÇÃO PELO CORONAVIRUS – COVID 19                                                                                                                                                                                                                      99089      626040920.58    6317.9658749205259918    5.8798958512044727\n",
      "TRATAMENTO DE OUTRAS DOENÇAS BACTERIANAS                                                                                                                                                                                                                                88917      374396790.84    4210.6322844900300280    7.4235523015846239\n",
      "PROCEDIMENTOS SEQUENCIAIS EM ONCOLOGIA                                                                                                                                                                                                                                  30570      233827974.01    7648.9360160287863919    2.4188092901537455\n",
      "TRATAMENTO DE PNEUMONIAS OU INFLUENZA (GRIPE)                                                                                                                                                                                                                          127672      174721093.06    1368.5153601416128830    6.6184676358167805\n",
      "PARTO NORMAL                                                                                                                                                                                                                                                           241259      131981997.94     547.0552308514915506    1.9902221264284441\n",
      "TRATAMENTO CIRURGICO EM POLITRAUMATIZADO                                                                                                                                                                                                                                28032      110679643.04    3948.3320148401826484    7.5454123858447489\n",
      "PARTO CESARIANO EM GESTACAO DE ALTO RISCO                                                                                                                                                                                                                               86066      107352221.14    1247.3243922106290521    3.3476750400855158\n",
      "TRATAMENTO DE INSUFICIENCIA CARDIACA                                                                                                                                                                                                                                    51743      105583617.68    2040.5391585335214425    8.8162070231722165\n",
      "TRATAMENTO DE OUTRAS DOENCAS DO APARELHO RESPIRATORIO                                                                                                                                                                                                                   38740       97747208.19    2523.1597364481156427    6.7546463603510583\n"
     ]
    }
   ],
   "source": [
    "# Top 10 procedimentos mais custosos (por valor total)\n",
    "query_procedimentos_custosos = \"\"\"\n",
    "    SELECT \n",
    "        p.procedimento_nome,\n",
    "        COUNT(i.internamento_id) AS total_realizacoes,\n",
    "        SUM(i.val_tot) AS valor_total_gasto,\n",
    "        AVG(i.val_tot) AS valor_medio_procedimento,\n",
    "        AVG(i.qt_diarias) AS media_dias_internacao\n",
    "    FROM Procedimento p\n",
    "    JOIN Internamento i ON p.procedimento_id = i.procedimento_id\n",
    "    GROUP BY p.procedimento_id, p.procedimento_nome\n",
    "    HAVING COUNT(i.internamento_id) >= 2  -- Filtra procedimentos com pelo menos 2 casos\n",
    "    ORDER BY valor_total_gasto DESC\n",
    "    LIMIT 10;\n",
    "\"\"\"\n",
    "\n",
    "df_procedimentos_custosos = execute_query_and_display(query_procedimentos_custosos, \"TOP 10 PROCEDIMENTOS MAIS CUSTOSOS\")"
   ]
  },
  {
   "cell_type": "markdown",
   "id": "fb71b8db",
   "metadata": {},
   "source": [
    "## 6. Análise de Mortalidade por Diagnóstico"
   ]
  },
  {
   "cell_type": "code",
   "execution_count": 73,
   "id": "c91f0390",
   "metadata": {},
   "outputs": [
    {
     "name": "stdout",
     "output_type": "stream",
     "text": [
      "\n",
      "============================================================\n",
      "TOP 10 DIAGNÓSTICOS COM MAIOR TAXA DE MORTALIDADE\n",
      "============================================================\n",
      "Total de registros: 10\n",
      "\n",
      "Primeiros 10 resultados:\n",
      "cid_id                                                            cid_nome  total_casos  total_obitos taxa_mortalidade_pct media_dias_internacao\n",
      "  A483                                           Síndrome do choque tóxico           56            50                89.29    6.2678571428571429\n",
      "  R578                                             Outras formas de choque           79            70                88.61    3.7848101265822785\n",
      "  A327                                             Septicemia listeriótica          572           502                87.76    8.7534965034965035\n",
      "  I469                                    Parada cardíaca não especificada          356           300                84.27    2.2865168539325843\n",
      "  R579                                             Choque não especificado          211           168                79.62    4.3933649289099526\n",
      "  R570                                                 Choque cardiogênico         1339          1024                76.47    4.2203136669156087\n",
      "  A413                               Septicemia por Haemophilus influenzae           13             9                69.23    8.4615384615384615\n",
      "  R092                                                 Parada respiratória           12             8                66.67    1.5833333333333333\n",
      "  Q897 Malformações congênitas múltiplas, não classificadas em outra parte           32            19                59.38    3.1562500000000000\n",
      "  G732                 Outras síndromes miastênicas em doenças neoplásicas           36            20                55.56   12.5277777777777778\n"
     ]
    }
   ],
   "source": [
    "# Diagnósticos com maiores taxas de mortalidade (mínimo 10 casos)\n",
    "query_mortalidade_cid = \"\"\"\n",
    "    SELECT \n",
    "        c.cid_id,\n",
    "        c.cid_nome,\n",
    "        COUNT(i.internamento_id) AS total_casos,\n",
    "        COUNT(CASE WHEN i.morte = 1 THEN 1 END) AS total_obitos,\n",
    "        ROUND(\n",
    "            (COUNT(CASE WHEN i.morte = 1 THEN 1 END) * 100.0 / COUNT(i.internamento_id)), 2\n",
    "        ) AS taxa_mortalidade_pct,\n",
    "        AVG(i.qt_diarias) AS media_dias_internacao\n",
    "    FROM Cid c\n",
    "    JOIN Internamento i ON c.cid_id = i.cid_id\n",
    "    GROUP BY c.cid_id, c.cid_nome\n",
    "    HAVING COUNT(i.internamento_id) >= 10  -- Mínimo de 10 casos para análise estatística\n",
    "    ORDER BY taxa_mortalidade_pct DESC\n",
    "    LIMIT 10;\n",
    "\"\"\"\n",
    "\n",
    "df_mortalidade_cid = execute_query_and_display(query_mortalidade_cid, \"TOP 10 DIAGNÓSTICOS COM MAIOR TAXA DE MORTALIDADE\")"
   ]
  },
  {
   "cell_type": "markdown",
   "id": "9dee1521",
   "metadata": {},
   "source": [
    "## 7. Análise por Estabelecimentos (CNES)"
   ]
  },
  {
   "cell_type": "code",
   "execution_count": 74,
   "id": "1a37b791",
   "metadata": {},
   "outputs": [
    {
     "name": "stdout",
     "output_type": "stream",
     "text": [
      "\n",
      "============================================================\n",
      "TOP 10 ESTABELECIMENTOS POR VOLUME DE INTERNAÇÕES\n",
      "============================================================\n",
      "Total de registros: 10\n",
      "\n",
      "Primeiros 10 resultados:\n",
      "cnes_id municipio_nome  total_internacoes valor_total_movimentado valor_medio_internacao media_dias_internacao  total_obitos taxa_mortalidade_pct\n",
      "    434         Recife             275373            704798232.73  2559.4311451376859750    4.3338308403510874          8803                 3.20\n",
      "    655         Recife             205627            452884060.05  2202.4542499282681749    7.6132754939769583         21451                10.43\n",
      "    426         Recife             124228            241205738.90  1941.6374641787680716    6.6320636249476769          7242                 5.83\n",
      "2802783         Recife             118219            268225451.85  2268.8861507033556366    7.6437797646740372          8762                 7.41\n",
      "    477         Recife             108181            227271977.88  2100.8492977509913941    3.6003272293656002          2864                 2.65\n",
      "2427427         Recife             105192            142744655.92  1356.9915575328922352    5.2319282835196593          2524                 2.40\n",
      "    418         Recife             103442            225543138.98  2180.3826200189478162    6.0156609500976393          5402                 5.22\n",
      "    582         Recife              90399            243095444.02  2689.1386411354107899    4.2601798692463412          7736                 8.56\n",
      "2430711      Petrolina              90132             70575013.83   783.0183933564105978    4.4217037234278614          1261                 1.40\n",
      "    396         Recife              90131            102933395.58  1142.0420896251012415    4.5560240094972873          1893                 2.10\n"
     ]
    }
   ],
   "source": [
    "# Top 10 estabelecimentos por volume de internações\n",
    "query_ranking_estabelecimentos = \"\"\"\n",
    "    SELECT \n",
    "        e.cnes_id,\n",
    "        m.municipio_nome,\n",
    "        COUNT(i.internamento_id) AS total_internacoes,\n",
    "        SUM(i.val_tot) AS valor_total_movimentado,\n",
    "        AVG(i.val_tot) AS valor_medio_internacao,\n",
    "        AVG(i.qt_diarias) AS media_dias_internacao,\n",
    "        COUNT(CASE WHEN i.morte = 1 THEN 1 END) AS total_obitos,\n",
    "        ROUND(\n",
    "            (COUNT(CASE WHEN i.morte = 1 THEN 1 END) * 100.0 / COUNT(i.internamento_id)), 2\n",
    "        ) AS taxa_mortalidade_pct\n",
    "    FROM Estabelecimento e\n",
    "    JOIN Municipio m ON e.municipio_id = m.municipio_id\n",
    "    JOIN Internamento i ON e.cnes_id = i.cnes_id\n",
    "    GROUP BY e.cnes_id, m.municipio_nome\n",
    "    ORDER BY total_internacoes DESC\n",
    "    LIMIT 10;\n",
    "\"\"\"\n",
    "\n",
    "df_ranking_estabelecimentos = execute_query_and_display(query_ranking_estabelecimentos, \"TOP 10 ESTABELECIMENTOS POR VOLUME DE INTERNAÇÕES\")"
   ]
  },
  {
   "cell_type": "markdown",
   "id": "7729bc13",
   "metadata": {},
   "source": [
    "## 8. Análise de Tempo de Internação"
   ]
  },
  {
   "cell_type": "code",
   "execution_count": 75,
   "id": "f87be71d",
   "metadata": {},
   "outputs": [
    {
     "name": "stdout",
     "output_type": "stream",
     "text": [
      "Erro ao executar consulta: column \"internamento.qt_diarias\" must appear in the GROUP BY clause or be used in an aggregate function\n",
      "LINE 22:             WHEN qt_diarias = 0 THEN 1\n",
      "                          ^\n",
      "\n"
     ]
    }
   ],
   "source": [
    "# Análise de distribuição do tempo de internação\n",
    "query_tempo_internacao = \"\"\"\n",
    "    SELECT \n",
    "        CASE \n",
    "            WHEN qt_diarias = 0 THEN 'Menos de 1 dia'\n",
    "            WHEN qt_diarias BETWEEN 1 AND 3 THEN '1-3 dias'\n",
    "            WHEN qt_diarias BETWEEN 4 AND 7 THEN '4-7 dias'\n",
    "            WHEN qt_diarias BETWEEN 8 AND 15 THEN '8-15 dias'\n",
    "            WHEN qt_diarias BETWEEN 16 AND 30 THEN '16-30 dias'\n",
    "            WHEN qt_diarias > 30 THEN 'Mais de 30 dias'\n",
    "        END AS faixa_dias,\n",
    "        COUNT(*) AS total_internacoes,\n",
    "        AVG(val_tot) AS valor_medio,\n",
    "        COUNT(CASE WHEN morte = 1 THEN 1 END) AS total_obitos,\n",
    "        ROUND(\n",
    "            (COUNT(CASE WHEN morte = 1 THEN 1 END) * 100.0 / COUNT(*)), 2\n",
    "        ) AS taxa_mortalidade_pct\n",
    "    FROM Internamento\n",
    "    WHERE qt_diarias IS NOT NULL\n",
    "    GROUP BY faixa_dias\n",
    "    ORDER BY \n",
    "        CASE \n",
    "            WHEN qt_diarias = 0 THEN 1\n",
    "            WHEN qt_diarias BETWEEN 1 AND 3 THEN 2\n",
    "            WHEN qt_diarias BETWEEN 4 AND 7 THEN 3\n",
    "            WHEN qt_diarias BETWEEN 8 AND 15 THEN 4\n",
    "            WHEN qt_diarias BETWEEN 16 AND 30 THEN 5\n",
    "            WHEN qt_diarias > 30 THEN 6\n",
    "        END;\n",
    "\"\"\"\n",
    "\n",
    "df_tempo_internacao = execute_query_and_display(query_tempo_internacao, \"DISTRIBUIÇÃO DO TEMPO DE INTERNAÇÃO\")"
   ]
  },
  {
   "cell_type": "markdown",
   "id": "17059ab6",
   "metadata": {},
   "source": [
    "## 9. Análise Resumo - KPIs Gerais"
   ]
  },
  {
   "cell_type": "code",
   "execution_count": 76,
   "id": "02e91df5",
   "metadata": {},
   "outputs": [
    {
     "name": "stdout",
     "output_type": "stream",
     "text": [
      "Erro ao executar consulta: current transaction is aborted, commands ignored until end of transaction block\n",
      "\n"
     ]
    }
   ],
   "source": [
    "# KPIs gerais do sistema\n",
    "query_kpis_gerais = \"\"\"\n",
    "    SELECT \n",
    "        'Indicadores Gerais' AS categoria,\n",
    "        COUNT(DISTINCT i.internamento_id) AS total_internacoes,\n",
    "        COUNT(DISTINCT e.cnes_id) AS total_estabelecimentos,\n",
    "        COUNT(DISTINCT m.municipio_id) AS total_municipios,\n",
    "        COUNT(DISTINCT c.cid_id) AS total_diagnosticos_utilizados,\n",
    "        COUNT(DISTINCT p.procedimento_id) AS total_procedimentos_utilizados,\n",
    "        ROUND(SUM(i.val_tot), 2) AS valor_total_gasto,\n",
    "        ROUND(AVG(i.val_tot), 2) AS valor_medio_internacao,\n",
    "        ROUND(AVG(i.qt_diarias), 1) AS media_dias_internacao,\n",
    "        COUNT(CASE WHEN i.morte = 1 THEN 1 END) AS total_obitos,\n",
    "        ROUND(\n",
    "            (COUNT(CASE WHEN i.morte = 1 THEN 1 END) * 100.0 / COUNT(i.internamento_id)), 2\n",
    "        ) AS taxa_mortalidade_geral_pct\n",
    "    FROM Internamento i\n",
    "    JOIN Estabelecimento e ON i.cnes_id = e.cnes_id\n",
    "    JOIN Municipio m ON e.municipio_id = m.municipio_id\n",
    "    JOIN Cid c ON i.cid_id = c.cid_id\n",
    "    JOIN Procedimento p ON i.procedimento_id = p.procedimento_id;\n",
    "\"\"\"\n",
    "\n",
    "df_kpis_gerais = execute_query_and_display(query_kpis_gerais, \"KPIs GERAIS DO SISTEMA\", limit=20)"
   ]
  },
  {
   "cell_type": "markdown",
   "id": "4cda38d4",
   "metadata": {},
   "source": [
    "## 10. Consulta Customizada - Análise Combinada"
   ]
  },
  {
   "cell_type": "code",
   "execution_count": 77,
   "id": "7f3df8c9",
   "metadata": {},
   "outputs": [
    {
     "name": "stdout",
     "output_type": "stream",
     "text": [
      "Erro ao executar consulta: current transaction is aborted, commands ignored until end of transaction block\n",
      "\n"
     ]
    }
   ],
   "source": [
    "# Análise combinada: diagnóstico + procedimento + faixa etária\n",
    "query_analise_combinada = \"\"\"\n",
    "    SELECT \n",
    "        c.cid_nome,\n",
    "        proc.procedimento_nome,\n",
    "        CASE \n",
    "            WHEN pe.idade BETWEEN 0 AND 17 THEN '0-17 anos'\n",
    "            WHEN pe.idade BETWEEN 18 AND 39 THEN '18-39 anos'\n",
    "            WHEN pe.idade BETWEEN 40 AND 59 THEN '40-59 anos'\n",
    "            WHEN pe.idade BETWEEN 60 AND 79 THEN '60-79 anos'\n",
    "            WHEN pe.idade >= 80 THEN '80+ anos'\n",
    "            ELSE 'Não informado'\n",
    "        END AS faixa_etaria,\n",
    "        COUNT(i.internamento_id) AS total_casos,\n",
    "        AVG(i.val_tot) AS valor_medio,\n",
    "        AVG(i.qt_diarias) AS media_dias,\n",
    "        COUNT(CASE WHEN i.morte = 1 THEN 1 END) AS obitos,\n",
    "        ROUND(\n",
    "            (COUNT(CASE WHEN i.morte = 1 THEN 1 END) * 100.0 / COUNT(i.internamento_id)), 2\n",
    "        ) AS taxa_mortalidade_pct\n",
    "    FROM Internamento i\n",
    "    JOIN Cid c ON i.cid_id = c.cid_id\n",
    "    JOIN Procedimento proc ON i.procedimento_id = proc.procedimento_id\n",
    "    JOIN Pessoa pe ON i.pessoa_id = pe.pessoa_id\n",
    "    WHERE pe.idade IS NOT NULL\n",
    "    GROUP BY c.cid_nome, proc.procedimento_nome, faixa_etaria\n",
    "    HAVING COUNT(i.internamento_id) >= 3  -- Pelo menos 3 casos para análise\n",
    "    ORDER BY total_casos DESC\n",
    "    LIMIT 15;\n",
    "\"\"\"\n",
    "\n",
    "df_analise_combinada = execute_query_and_display(query_analise_combinada, \"ANÁLISE COMBINADA: DIAGNÓSTICO + PROCEDIMENTO + FAIXA ETÁRIA\")"
   ]
  },
  {
   "cell_type": "markdown",
   "id": "49e82b84",
   "metadata": {},
   "source": [
    "## Resumo das Análises Criadas\n",
    "\n",
    "As consultas acima cobrem várias perspectivas importantes dos dados de internação:\n",
    "\n",
    "### Para Dashboard - Visualizações Sugeridas:\n",
    "1. **Série Temporal**: Gráfico de linha mostrando evolução das internações ao longo do tempo\n",
    "2. **Ranking CID**: Gráfico de barras com os diagnósticos mais frequentes\n",
    "3. **Demografia**: Pirâmide etária ou gráfico de barras por faixa etária/sexo\n",
    "4. **Mapa Geográfico**: Heatmap dos municípios por volume de internações\n",
    "5. **Análise Financeira**: Gráficos de custo por procedimento\n",
    "6. **Indicadores de Qualidade**: Dashboards de mortalidade e tempo médio de internação\n",
    "7. **Performance Hospitalar**: Ranking de estabelecimentos\n",
    "8. **Análise Integrada**: Tabelas e gráficos combinando múltiplas dimensões\n",
    "\n",
    "### KPIs Principais:\n",
    "- Total de internações\n",
    "- Valor total movimentado\n",
    "- Taxa de mortalidade geral\n",
    "- Tempo médio de internação\n",
    "- Número de estabelecimentos/municípios atendidos"
   ]
  }
 ],
 "metadata": {
  "kernelspec": {
   "display_name": ".venv (3.12.3)",
   "language": "python",
   "name": "python3"
  },
  "language_info": {
   "codemirror_mode": {
    "name": "ipython",
    "version": 3
   },
   "file_extension": ".py",
   "mimetype": "text/x-python",
   "name": "python",
   "nbconvert_exporter": "python",
   "pygments_lexer": "ipython3",
   "version": "3.12.3"
  }
 },
 "nbformat": 4,
 "nbformat_minor": 5
}
