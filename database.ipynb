{
 "cells": [
  {
   "cell_type": "markdown",
   "id": "189be886",
   "metadata": {},
   "source": [
    "# Biblioteca"
   ]
  },
  {
   "cell_type": "code",
   "execution_count": 5,
   "id": "6fa6d40a",
   "metadata": {},
   "outputs": [
    {
     "name": "stdout",
     "output_type": "stream",
     "text": [
      "Requirement already satisfied: psycopg2-binary in c:\\users\\duike\\onedrive\\documentos\\datasus_pe\\.venv\\lib\\site-packages (2.9.10)\n"
     ]
    },
    {
     "name": "stderr",
     "output_type": "stream",
     "text": [
      "\n",
      "[notice] A new release of pip is available: 24.0 -> 25.2\n",
      "[notice] To update, run: python.exe -m pip install --upgrade pip\n"
     ]
    },
    {
     "name": "stdout",
     "output_type": "stream",
     "text": [
      "Requirement already satisfied: sqlalchemy in c:\\users\\duike\\onedrive\\documentos\\datasus_pe\\.venv\\lib\\site-packages (2.0.43)\n",
      "Requirement already satisfied: sqlalchemy-schemadisplay in c:\\users\\duike\\onedrive\\documentos\\datasus_pe\\.venv\\lib\\site-packages (2.0)\n",
      "Requirement already satisfied: pydot in c:\\users\\duike\\onedrive\\documentos\\datasus_pe\\.venv\\lib\\site-packages (4.0.1)\n",
      "Requirement already satisfied: greenlet>=1 in c:\\users\\duike\\onedrive\\documentos\\datasus_pe\\.venv\\lib\\site-packages (from sqlalchemy) (3.2.4)\n",
      "Requirement already satisfied: typing-extensions>=4.6.0 in c:\\users\\duike\\onedrive\\documentos\\datasus_pe\\.venv\\lib\\site-packages (from sqlalchemy) (4.15.0)\n",
      "Requirement already satisfied: setuptools in c:\\users\\duike\\onedrive\\documentos\\datasus_pe\\.venv\\lib\\site-packages (from sqlalchemy-schemadisplay) (80.9.0)\n",
      "Requirement already satisfied: Pillow in c:\\users\\duike\\onedrive\\documentos\\datasus_pe\\.venv\\lib\\site-packages (from sqlalchemy-schemadisplay) (11.3.0)\n",
      "Requirement already satisfied: pyparsing>=3.1.0 in c:\\users\\duike\\onedrive\\documentos\\datasus_pe\\.venv\\lib\\site-packages (from pydot) (3.2.5)\n"
     ]
    },
    {
     "name": "stderr",
     "output_type": "stream",
     "text": [
      "\n",
      "[notice] A new release of pip is available: 24.0 -> 25.2\n",
      "[notice] To update, run: python.exe -m pip install --upgrade pip\n"
     ]
    },
    {
     "name": "stdout",
     "output_type": "stream",
     "text": [
      "Requirement already satisfied: pydot in c:\\users\\duike\\onedrive\\documentos\\datasus_pe\\.venv\\lib\\site-packages (4.0.1)\n",
      "Requirement already satisfied: pyparsing>=3.1.0 in c:\\users\\duike\\onedrive\\documentos\\datasus_pe\\.venv\\lib\\site-packages (from pydot) (3.2.5)\n"
     ]
    },
    {
     "name": "stderr",
     "output_type": "stream",
     "text": [
      "\n",
      "[notice] A new release of pip is available: 24.0 -> 25.2\n",
      "[notice] To update, run: python.exe -m pip install --upgrade pip\n"
     ]
    }
   ],
   "source": [
    "!pip install psycopg2-binary\n",
    "!pip install sqlalchemy sqlalchemy-schemadisplay pydot\n",
    "!pip install pydot"
   ]
  },
  {
   "cell_type": "markdown",
   "id": "524d4086",
   "metadata": {},
   "source": [
    "# Conexão"
   ]
  },
  {
   "cell_type": "code",
   "execution_count": 6,
   "id": "2e58b140",
   "metadata": {},
   "outputs": [
    {
     "name": "stdout",
     "output_type": "stream",
     "text": [
      "Conexão com o PostgreSQL bem-sucedida!\n"
     ]
    }
   ],
   "source": [
    "import psycopg2\n",
    "import pandas as pd\n",
    "\n",
    "# --- Configurações de Conexão ---\n",
    "# Substitua com suas informações se forem diferentes\n",
    "db_config = {\n",
    "    \"host\": \"localhost\",\n",
    "    \"port\": \"5432\",\n",
    "    \"database\": \"tebd_db\",\n",
    "    \"user\": \"tebd\",\n",
    "    \"password\": \"tebd\"  # <<< COLOQUE SUA SENHA AQUI\n",
    "}\n",
    "\n",
    "# --- Conectar ao Banco de Dados ---\n",
    "try:\n",
    "    conn = psycopg2.connect(**db_config)\n",
    "    print(\"Conexão com o PostgreSQL bem-sucedida!\")\n",
    "    # Criar um cursor para executar comandos\n",
    "    cur = conn.cursor()\n",
    "except psycopg2.Error as e:\n",
    "    print(f\"Erro ao conectar ao PostgreSQL: {e}\")\n",
    "    conn = None\n",
    "    cur = None"
   ]
  },
  {
   "cell_type": "code",
   "execution_count": null,
   "id": "edf03224",
   "metadata": {},
   "outputs": [
    {
     "name": "stdout",
     "output_type": "stream",
     "text": [
      "Tabela 'Estabelecimento' criada com sucesso.\n",
      "Tabela 'Procedimento' criada com sucesso.\n",
      "Tabela 'Cid' criada com sucesso.\n",
      "Tabela 'Pessoa' criada com sucesso.\n",
      "Tabela 'Internamento' criada com sucesso.\n"
     ]
    }
   ],
   "source": [
    "# --- Definição dos comandos SQL ---\n",
    "sql_create_municipio = \"\"\"\n",
    "    CREATE TABLE IF NOT EXISTS Municipio (\n",
    "        municipio_id VARCHAR(6) PRIMARY KEY UNIQUE,\n",
    "        municipio_nome VARCHAR(100)\n",
    "    );\n",
    "\"\"\"\n",
    "\n",
    "sql_create_estabelecimento = \"\"\"\n",
    "    CREATE TABLE IF NOT EXISTS Estabelecimento (\n",
    "        cnes_id VARCHAR(7) PRIMARY KEY UNIQUE,\n",
    "        cnpj VARCHAR(15)\n",
    "        municipio_id VARCHAR(6) REFERENCES Municipio(municipio_id)\n",
    "    );\n",
    "\"\"\"\n",
    "\n",
    "sql_create_procedimento = \"\"\"\n",
    "    CREATE TABLE IF NOT EXISTS Procedimento (\n",
    "        procedimento_id VARCHAR(10) PRIMARY KEY UNIQUE,\n",
    "        procedimento_nome VARCHAR(255)\n",
    "    );\n",
    "\"\"\"\n",
    "\n",
    "sql_create_cid = \"\"\"\n",
    "    CREATE TABLE IF NOT EXISTS Cid (\n",
    "        cid_id VARCHAR(4) PRIMARY KEY UNIQUE,\n",
    "        cid_nome VARCHAR(255)\n",
    "    );\n",
    "\"\"\"\n",
    "\n",
    "sql_create_pessoa = \"\"\"\n",
    "    CREATE TABLE IF NOT EXISTS Pessoa (\n",
    "        pessoa_id SERIAL PRIMARY KEY UNIQUE,\n",
    "        nasc DATE,\n",
    "        sexo VARCHAR(1),\n",
    "        idade INT(2),\n",
    "        raca_cor VARCHAR(4),\n",
    "        etnia VARCHAR(4),\n",
    "        cod_idade VARCHAR(1)\n",
    "    );\n",
    "\"\"\"\n",
    "\n",
    "sql_create_internamento = \"\"\"\n",
    "    CREATE TABLE IF NOT EXISTS Internamento (\n",
    "        internamento_id VARCHAR(13) PRIMARY KEY UNIQUE,\n",
    "        qt_diarias INT(3),\n",
    "        val_sh NUMERIC(13, 2),\n",
    "        val_sp NUMERIC(13, 2),\n",
    "        val_tot NUMERIC(14, 2),\n",
    "        dt_inter DATE,\n",
    "        morte INT(1),\n",
    "        cid_morte VARCHAR(4),\n",
    "        cnes_id VARCHAR(7) REFERENCES Estabelecimento(cnes_id),\n",
    "        procedimento_id VARCHAR(10) REFERENCES Procedimento(procedimento_id),\n",
    "        cid_id VARCHAR(4) REFERENCES Cid(cid_id),\n",
    "        pessoa_id INT REFERENCES Pessoa(pessoa_id)\n",
    "    );\n",
    "\"\"\"\n",
    "\n",
    "if conn:\n",
    "    try:\n",
    "        cur.execute(sql_create_municipio)\n",
    "        print(\"Tabela 'Municipio' criada com sucesso.\")\n",
    "\n",
    "        cur.execute(sql_create_estabelecimento)\n",
    "        print(\"Tabela 'Estabelecimento' criada com sucesso.\")\n",
    "\n",
    "        cur.execute(sql_create_procedimento)\n",
    "        print(\"Tabela 'Procedimento' criada com sucesso.\")\n",
    "\n",
    "        cur.execute(sql_create_cid)\n",
    "        print(\"Tabela 'Cid' criada com sucesso.\")\n",
    "\n",
    "        cur.execute(sql_create_pessoa)\n",
    "        print(\"Tabela 'Pessoa' criada com sucesso.\")\n",
    "\n",
    "        cur.execute(sql_create_internamento)\n",
    "        print(\"Tabela 'Internamento' criada com sucesso.\")\n",
    "\n",
    "        conn.commit()\n",
    "    except psycopg2.Error as e:\n",
    "        print(f\"Erro ao criar as tabelas: {e}\")\n",
    "        conn.rollback()"
   ]
  },
  {
   "cell_type": "code",
   "execution_count": null,
   "id": "834e73d4",
   "metadata": {},
   "outputs": [
    {
     "name": "stdout",
     "output_type": "stream",
     "text": [
      "Conexão com o PostgreSQL encerrada.\n"
     ]
    }
   ],
   "source": [
    "sql_insert_municipio = \"INSERT INTO Municipio (municipio_id) VALUES (%s) ON CONFLICT (municipio_id) DO NOTHING;\"\n",
    "sql_insert_estabelecimento = \"INSERT INTO Estabelecimento (cnes_id) VALUES (%s) ON CONFLICT (cnes_id) DO NOTHING;\"\n",
    "sql_insert_procedimento = \"INSERT INTO Procedimento (procedimento_id) VALUES (%s) ON CONFLICT (procedimento_id) DO NOTHING;\"\n",
    "sql_insert_cid = \"INSERT INTO Cid (cid_id) VALUES (%s) ON CONFLICT (cid_id) DO NOTHING;\"\n",
    "sql_insert_pessoa = \"INSERT INTO Pessoa (nasc, sexo, idade, raca_cor, etnia) VALUES (%s, %s, %s, %s, %s) RETURNING pessoa_id;\"\n",
    "sql_insert_internamento = \"\"\"\n",
    "    INSERT INTO Internamento (\n",
    "        internamento_id, qt_diarias, val_sh, val_sp, val_tot, dt_inter, morte, cid_morte,\n",
    "        cnes_id, procedimento_id, cid_id, pessoa_id\n",
    "    ) VALUES (%s, %s, %s, %s, %s, %s, %s, %s, %s, %s, %s, %s);\n",
    "\"\"\"\n",
    "\n",
    "try:\n",
    "    if conn:\n",
    "        try:\n",
    "            df = pd.read_csv('arquivo_500linhas.csv')\n",
    "\n",
    "            for cnes in df['CNES'].unique():\n",
    "                cur.execute(sql_insert_estabelecimento, (int(cnes),))\n",
    "\n",
    "            for proc in df['PROC_REA'].unique():\n",
    "                cur.execute(sql_insert_procedimento, (str(proc),))\n",
    "\n",
    "            for cid in df['DIAG_PRINC'].unique():\n",
    "                if pd.notna(cid) and cid != '0':\n",
    "                    cur.execute(sql_insert_cid, (str(cid),))\n",
    "\n",
    "            conn.commit()\n",
    "\n",
    "            for index, row in df.iterrows():\n",
    "                cur.execute(\n",
    "                    sql_insert_pessoa,\n",
    "                    (int(row['NASC']), int(row['SEXO']), int(row['IDADE']), str(row['RACA_COR']), str(row['ETNIA']))\n",
    "                )\n",
    "                pessoa_id = cur.fetchone()[0]\n",
    "\n",
    "                cur.execute(\n",
    "                    sql_insert_internamento,\n",
    "                    (\n",
    "                        int(row['N_AIH']), int(row['QT_DIARIAS']), row['VAL_SH'], row['VAL_SP'], row['VAL_TOT'],\n",
    "                        int(row['DT_INTER']), int(row['MORTE']), str(row['CID_MORTE']), int(row['CNES']),\n",
    "                        str(row['PROC_REA']), str(row['DIAG_PRINC']), pessoa_id\n",
    "                    )\n",
    "                )\n",
    "\n",
    "            conn.commit()\n",
    "\n",
    "        except psycopg2.Error as e:\n",
    "            print(f\"Erro ao inserir dados: {e}\")\n",
    "            conn.rollback()\n",
    "\n",
    "finally:\n",
    "    if cur:\n",
    "        cur.close()\n",
    "    if conn:\n",
    "        conn.close()\n",
    "        print(\"Conexão com o PostgreSQL encerrada.\")\n"
   ]
  }
 ],
 "metadata": {
  "kernelspec": {
   "display_name": ".venv (3.12.3)",
   "language": "python",
   "name": "python3"
  },
  "language_info": {
   "codemirror_mode": {
    "name": "ipython",
    "version": 3
   },
   "file_extension": ".py",
   "mimetype": "text/x-python",
   "name": "python",
   "nbconvert_exporter": "python",
   "pygments_lexer": "ipython3",
   "version": "3.12.3"
  }
 },
 "nbformat": 4,
 "nbformat_minor": 5
}
