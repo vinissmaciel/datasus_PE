{
 "cells": [
  {
   "cell_type": "markdown",
   "id": "189be886",
   "metadata": {},
   "source": [
    "# Biblioteca"
   ]
  },
  {
   "cell_type": "code",
   "execution_count": null,
   "id": "6fa6d40a",
   "metadata": {},
   "outputs": [
    {
     "name": "stdout",
     "output_type": "stream",
     "text": [
      "Requirement already satisfied: psycopg2-binary in c:\\users\\duike\\onedrive\\documentos\\datasus_pe\\.venv\\lib\\site-packages (2.9.10)\n"
     ]
    },
    {
     "name": "stderr",
     "output_type": "stream",
     "text": [
      "\n",
      "[notice] A new release of pip is available: 24.0 -> 25.2\n",
      "[notice] To update, run: python.exe -m pip install --upgrade pip\n"
     ]
    },
    {
     "name": "stdout",
     "output_type": "stream",
     "text": [
      "Requirement already satisfied: sqlalchemy in c:\\users\\duike\\onedrive\\documentos\\datasus_pe\\.venv\\lib\\site-packages (2.0.43)\n",
      "Requirement already satisfied: sqlalchemy-schemadisplay in c:\\users\\duike\\onedrive\\documentos\\datasus_pe\\.venv\\lib\\site-packages (2.0)\n",
      "Requirement already satisfied: pydot in c:\\users\\duike\\onedrive\\documentos\\datasus_pe\\.venv\\lib\\site-packages (4.0.1)\n",
      "Requirement already satisfied: greenlet>=1 in c:\\users\\duike\\onedrive\\documentos\\datasus_pe\\.venv\\lib\\site-packages (from sqlalchemy) (3.2.4)\n",
      "Requirement already satisfied: typing-extensions>=4.6.0 in c:\\users\\duike\\onedrive\\documentos\\datasus_pe\\.venv\\lib\\site-packages (from sqlalchemy) (4.15.0)\n",
      "Requirement already satisfied: setuptools in c:\\users\\duike\\onedrive\\documentos\\datasus_pe\\.venv\\lib\\site-packages (from sqlalchemy-schemadisplay) (80.9.0)\n",
      "Requirement already satisfied: Pillow in c:\\users\\duike\\onedrive\\documentos\\datasus_pe\\.venv\\lib\\site-packages (from sqlalchemy-schemadisplay) (11.3.0)\n",
      "Requirement already satisfied: pyparsing>=3.1.0 in c:\\users\\duike\\onedrive\\documentos\\datasus_pe\\.venv\\lib\\site-packages (from pydot) (3.2.5)\n"
     ]
    },
    {
     "name": "stderr",
     "output_type": "stream",
     "text": [
      "\n",
      "[notice] A new release of pip is available: 24.0 -> 25.2\n",
      "[notice] To update, run: python.exe -m pip install --upgrade pip\n"
     ]
    },
    {
     "name": "stdout",
     "output_type": "stream",
     "text": [
      "Requirement already satisfied: pydot in c:\\users\\duike\\onedrive\\documentos\\datasus_pe\\.venv\\lib\\site-packages (4.0.1)\n",
      "Requirement already satisfied: pyparsing>=3.1.0 in c:\\users\\duike\\onedrive\\documentos\\datasus_pe\\.venv\\lib\\site-packages (from pydot) (3.2.5)\n"
     ]
    },
    {
     "name": "stderr",
     "output_type": "stream",
     "text": [
      "\n",
      "[notice] A new release of pip is available: 24.0 -> 25.2\n",
      "[notice] To update, run: python.exe -m pip install --upgrade pip\n"
     ]
    }
   ],
   "source": [
    "!pip install psycopg2-binary\n",
    "!pip install sqlalchemy sqlalchemy-schemadisplay pydot\n",
    "!pip install pydot\n",
    "import psycopg2\n",
    "import pandas as pd\n",
    "from pathlib import Path\n"
   ]
  },
  {
   "cell_type": "markdown",
   "id": "8061eda3",
   "metadata": {},
   "source": [
    "# Utilidades"
   ]
  },
  {
   "cell_type": "code",
   "execution_count": 78,
   "id": "93714f52",
   "metadata": {},
   "outputs": [],
   "source": [
    "def get_dataframe_from_csv(file_path, delimiter=','):\n",
    "    try:\n",
    "        df = pd.read_csv(file_path, dtype=str, delimiter=delimiter)\n",
    "        print(f\"Arquivo CSV '{file_path}' lido com sucesso.\")\n",
    "        return df\n",
    "    except Exception as e:\n",
    "        print(f\"Erro ao ler o arquivo CSV: {e}\")\n",
    "        return pd.DataFrame()\n",
    "    \n",
    "def insert_dataframe_to_table(conn, cur, df, sql_query, columns, table_name):\n",
    "    \"\"\"\n",
    "    Insere dados de um DataFrame em uma tabela.\n",
    "    \n",
    "    Args:\n",
    "        conn: Conexão com o banco\n",
    "        cur: Cursor do banco\n",
    "        df: DataFrame com os dados\n",
    "        sql_query: Query SQL de inserção\n",
    "        columns: Lista com nomes das colunas do DataFrame\n",
    "        table_name: Nome da tabela para mensagens\n",
    "    \"\"\"\n",
    "    if conn is not None and cur is not None and not df.empty:\n",
    "        try:\n",
    "            data_tuples = [tuple(row[col] for col in columns) for _, row in df.iterrows()]\n",
    "            cur.executemany(sql_query, data_tuples)\n",
    "            conn.commit()\n",
    "            print(f\"Dados inseridos na tabela '{table_name}' com sucesso. ({len(data_tuples)} registros)\")\n",
    "            return True\n",
    "        except psycopg2.Error as e:\n",
    "            print(f\"Erro ao inserir dados na tabela '{table_name}': {e}\")\n",
    "            conn.rollback()\n",
    "            return False\n",
    "    else:\n",
    "        print(f\"Não foi possível inserir dados na tabela '{table_name}': conexão inválida ou DataFrame vazio.\")\n",
    "        return False"
   ]
  },
  {
   "cell_type": "markdown",
   "id": "524d4086",
   "metadata": {},
   "source": [
    "# Conexão"
   ]
  },
  {
   "cell_type": "code",
   "execution_count": 100,
   "id": "2e58b140",
   "metadata": {},
   "outputs": [
    {
     "name": "stdout",
     "output_type": "stream",
     "text": [
      "Conexão com o PostgreSQL bem-sucedida!\n"
     ]
    }
   ],
   "source": [
    "db_config = {\n",
    "    \"host\": \"localhost\",\n",
    "    \"port\": \"5432\",\n",
    "    \"database\": \"tebd_db\",\n",
    "    \"user\": \"tebd\",\n",
    "    \"password\": \"tebd\"\n",
    "}\n",
    "\n",
    "conn = None\n",
    "cur = None\n",
    "\n",
    "# --- Conectar ao Banco de Dados ---\n",
    "try:\n",
    "    conn = psycopg2.connect(**db_config)\n",
    "    print(\"Conexão com o PostgreSQL bem-sucedida!\")\n",
    "    cur = conn.cursor()\n",
    "except psycopg2.Error as e:\n",
    "    print(f\"Erro ao conectar ao PostgreSQL: {e}\")\n"
   ]
  },
  {
   "cell_type": "markdown",
   "id": "8a389dc0",
   "metadata": {},
   "source": [
    "# Criação das tabelas"
   ]
  },
  {
   "cell_type": "code",
   "execution_count": 90,
   "id": "edf03224",
   "metadata": {},
   "outputs": [
    {
     "name": "stdout",
     "output_type": "stream",
     "text": [
      "Tabela 'Municipio' criada com sucesso.\n",
      "Tabela 'Estabelecimento' criada com sucesso.\n",
      "Tabela 'Procedimento' criada com sucesso.\n",
      "Tabela 'Cid' criada com sucesso.\n",
      "Tabela 'Pessoa' criada com sucesso.\n",
      "Tabela 'Internamento' criada com sucesso.\n"
     ]
    }
   ],
   "source": [
    "sql_create_municipio = \"\"\"\n",
    "    CREATE TABLE IF NOT EXISTS Municipio (\n",
    "        municipio_id VARCHAR(6) PRIMARY KEY UNIQUE,\n",
    "        municipio_nome VARCHAR(100)\n",
    "    );\n",
    "\"\"\"\n",
    "\n",
    "sql_create_estabelecimento = \"\"\"\n",
    "    CREATE TABLE IF NOT EXISTS Estabelecimento (\n",
    "        cnes_id VARCHAR(7) PRIMARY KEY UNIQUE,\n",
    "        cnpj VARCHAR(15),\n",
    "        municipio_id VARCHAR(6) REFERENCES Municipio(municipio_id)\n",
    "    );\n",
    "\"\"\"\n",
    "\n",
    "sql_create_procedimento = \"\"\"\n",
    "    CREATE TABLE IF NOT EXISTS Procedimento (\n",
    "        procedimento_id VARCHAR(10) PRIMARY KEY UNIQUE,\n",
    "        procedimento_nome VARCHAR(255)\n",
    "    );\n",
    "\"\"\"\n",
    "\n",
    "sql_create_cid = \"\"\"\n",
    "    CREATE TABLE IF NOT EXISTS Cid (\n",
    "        cid_id VARCHAR(4) PRIMARY KEY UNIQUE,\n",
    "        cid_nome VARCHAR(500)\n",
    "    );\n",
    "\"\"\"\n",
    "\n",
    "sql_create_pessoa = \"\"\"\n",
    "    CREATE TABLE IF NOT EXISTS Pessoa (\n",
    "        pessoa_id SERIAL PRIMARY KEY UNIQUE,\n",
    "        nasc DATE,\n",
    "        sexo VARCHAR(1),\n",
    "        idade NUMERIC(2),\n",
    "        raca_cor VARCHAR(4),\n",
    "        etnia VARCHAR(4),\n",
    "        cod_idade VARCHAR(1)\n",
    "    );\n",
    "\"\"\"\n",
    "\n",
    "sql_create_internamento = \"\"\"\n",
    "    CREATE TABLE IF NOT EXISTS Internamento (\n",
    "        internamento_id VARCHAR(13) PRIMARY KEY UNIQUE,\n",
    "        qt_diarias NUMERIC(3),\n",
    "        val_sh NUMERIC(13, 2),\n",
    "        val_sp NUMERIC(13, 2),\n",
    "        val_tot NUMERIC(14, 2),\n",
    "        dt_inter DATE,\n",
    "        morte NUMERIC(1),\n",
    "        cid_morte VARCHAR(4),\n",
    "        cnes_id VARCHAR(7) REFERENCES Estabelecimento(cnes_id),\n",
    "        procedimento_id VARCHAR(10) REFERENCES Procedimento(procedimento_id),\n",
    "        cid_id VARCHAR(4) REFERENCES Cid(cid_id),\n",
    "        pessoa_id INT REFERENCES Pessoa(pessoa_id)\n",
    "    );\n",
    "\"\"\"\n",
    "\n",
    "if conn is not None and cur is not None:\n",
    "    try:\n",
    "        cur.execute(sql_create_municipio)\n",
    "        print(\"Tabela 'Municipio' criada com sucesso.\")\n",
    "\n",
    "        cur.execute(sql_create_estabelecimento)\n",
    "        print(\"Tabela 'Estabelecimento' criada com sucesso.\")\n",
    "\n",
    "        cur.execute(sql_create_procedimento)\n",
    "        print(\"Tabela 'Procedimento' criada com sucesso.\")\n",
    "\n",
    "        cur.execute(sql_create_cid)\n",
    "        print(\"Tabela 'Cid' criada com sucesso.\")\n",
    "\n",
    "        cur.execute(sql_create_pessoa)\n",
    "        print(\"Tabela 'Pessoa' criada com sucesso.\")\n",
    "\n",
    "        cur.execute(sql_create_internamento)\n",
    "        print(\"Tabela 'Internamento' criada com sucesso.\")\n",
    "\n",
    "        conn.commit()\n",
    "    except psycopg2.Error as e:\n",
    "        print(f\"Erro ao criar as tabelas: {e}\")\n",
    "        conn.rollback()"
   ]
  },
  {
   "cell_type": "markdown",
   "id": "2b152240",
   "metadata": {},
   "source": [
    "# Inserção nas tabelas"
   ]
  },
  {
   "cell_type": "markdown",
   "id": "de35428b",
   "metadata": {},
   "source": [
    "## Municipios"
   ]
  },
  {
   "cell_type": "code",
   "execution_count": 81,
   "id": "79fd39fe",
   "metadata": {},
   "outputs": [
    {
     "name": "stdout",
     "output_type": "stream",
     "text": [
      "Arquivo CSV 'data/municipios_tratado.csv' lido com sucesso.\n"
     ]
    }
   ],
   "source": [
    "df_municipios = get_dataframe_from_csv('data/municipios_tratado.csv')"
   ]
  },
  {
   "cell_type": "code",
   "execution_count": 85,
   "id": "ba309c33",
   "metadata": {},
   "outputs": [
    {
     "name": "stdout",
     "output_type": "stream",
     "text": [
      "Dados inseridos na tabela 'Municipio' com sucesso. (185 registros)\n"
     ]
    }
   ],
   "source": [
    "sql_insert_municipio = \"\"\"\n",
    "    INSERT INTO Municipio (municipio_id, municipio_nome)\n",
    "    VALUES (%s, %s)\n",
    "    ON CONFLICT (municipio_id) DO NOTHING;\n",
    "\"\"\"\n",
    "\n",
    "_ = insert_dataframe_to_table(\n",
    "    conn, cur, df_municipios, \n",
    "    sql_insert_municipio, \n",
    "    ['codigo', 'municipio'], \n",
    "    'Municipio'\n",
    ")"
   ]
  },
  {
   "cell_type": "markdown",
   "id": "b72afb65",
   "metadata": {},
   "source": [
    "## Estabelecimentos"
   ]
  },
  {
   "cell_type": "code",
   "execution_count": 83,
   "id": "2f5f1aee",
   "metadata": {},
   "outputs": [
    {
     "name": "stdout",
     "output_type": "stream",
     "text": [
      "Arquivo CSV 'data/CNES_tratado.csv' lido com sucesso.\n"
     ]
    }
   ],
   "source": [
    "df_estabelecimentos = get_dataframe_from_csv('data/CNES_tratado.csv')"
   ]
  },
  {
   "cell_type": "code",
   "execution_count": 86,
   "id": "3bc95ade",
   "metadata": {},
   "outputs": [
    {
     "name": "stdout",
     "output_type": "stream",
     "text": [
      "Dados inseridos na tabela 'Estabelecimento' com sucesso. (14586 registros)\n"
     ]
    }
   ],
   "source": [
    "sql_insert_estabelecimento = \"\"\"\n",
    "    INSERT INTO Estabelecimento (cnes_id, cnpj, municipio_id)\n",
    "    VALUES (%s, %s, %s)\n",
    "    ON CONFLICT (cnes_id) DO NOTHING;\n",
    "\"\"\"\n",
    "\n",
    "_ = insert_dataframe_to_table(\n",
    "    conn, cur, df_estabelecimentos, \n",
    "    sql_insert_estabelecimento, \n",
    "    ['CNES', 'CPF_CNPJ', 'CODUFMUN'], \n",
    "    'Estabelecimento'\n",
    ")"
   ]
  },
  {
   "cell_type": "markdown",
   "id": "b0c8114f",
   "metadata": {},
   "source": [
    "## Procedimentos"
   ]
  },
  {
   "cell_type": "code",
   "execution_count": 103,
   "id": "16ce7784",
   "metadata": {},
   "outputs": [
    {
     "name": "stdout",
     "output_type": "stream",
     "text": [
      "Arquivo CSV 'data/procedimentos_tratado.csv' lido com sucesso.\n"
     ]
    }
   ],
   "source": [
    "df_procedimentos = get_dataframe_from_csv('data/procedimentos_tratado.csv', delimiter=';')"
   ]
  },
  {
   "cell_type": "code",
   "execution_count": 104,
   "id": "687892fd",
   "metadata": {},
   "outputs": [
    {
     "name": "stdout",
     "output_type": "stream",
     "text": [
      "Dados inseridos na tabela 'Procedimento' com sucesso. (5279 registros)\n"
     ]
    }
   ],
   "source": [
    "sql_insert_procedimento = \"\"\"\n",
    "    INSERT INTO Procedimento (procedimento_id, procedimento_nome)\n",
    "    VALUES (%s, %s)\n",
    "    ON CONFLICT (procedimento_id) DO NOTHING;\n",
    "\"\"\"\n",
    "\n",
    "_ = insert_dataframe_to_table(\n",
    "    conn, cur, df_procedimentos, \n",
    "    sql_insert_procedimento, \n",
    "    ['codproc', 'nome'], \n",
    "    'Procedimento'\n",
    ")\n"
   ]
  },
  {
   "cell_type": "markdown",
   "id": "7242eca6",
   "metadata": {},
   "source": [
    "## Cid"
   ]
  },
  {
   "cell_type": "code",
   "execution_count": 91,
   "id": "ada325ac",
   "metadata": {},
   "outputs": [
    {
     "name": "stdout",
     "output_type": "stream",
     "text": [
      "Arquivo CSV 'data/cid_tratado.csv' lido com sucesso.\n"
     ]
    }
   ],
   "source": [
    "df_cid = get_dataframe_from_csv('data/cid_tratado.csv', delimiter=';')"
   ]
  },
  {
   "cell_type": "code",
   "execution_count": 92,
   "id": "1af0a066",
   "metadata": {},
   "outputs": [
    {
     "name": "stdout",
     "output_type": "stream",
     "text": [
      "Dados inseridos na tabela 'Cid' com sucesso. (14231 registros)\n"
     ]
    }
   ],
   "source": [
    "sql_insert_cid = \"\"\"\n",
    "    INSERT INTO Cid (cid_id, cid_nome)\n",
    "    VALUES (%s, %s)\n",
    "    ON CONFLICT (cid_id) DO NOTHING;\n",
    "\"\"\"\n",
    "_ = insert_dataframe_to_table(\n",
    "    conn, cur, df_cid,\n",
    "    sql_insert_cid,\n",
    "    ['codigo', 'descricao'],\n",
    "    'Cid'\n",
    ")"
   ]
  },
  {
   "cell_type": "markdown",
   "id": "ae369581",
   "metadata": {},
   "source": [
    "## Pessoa e Internamento\n",
    "\n",
    "O dataframe para pessoa e internamento é o mesmo."
   ]
  },
  {
   "cell_type": "code",
   "execution_count": 105,
   "id": "b52dabf0",
   "metadata": {},
   "outputs": [
    {
     "name": "stdout",
     "output_type": "stream",
     "text": [
      "Arquivo CSV 'data/arquivo_500linhas.csv' lido com sucesso.\n"
     ]
    }
   ],
   "source": [
    "DEBUG = True\n",
    "\n",
    "anos = [2019, 2020, 2021, 2022, 2023, 2024]\n",
    "\n",
    "df_internamentos_list = []\n",
    "\n",
    "if DEBUG:\n",
    "    df_internamento = get_dataframe_from_csv('data/arquivo_500linhas.csv')\n",
    "    df_internamentos_list.append(df_internamento)\n",
    "else:\n",
    "    for ano in anos:\n",
    "        df_internamento = get_dataframe_from_csv(f'data/{ano}.csv')\n",
    "        df_internamentos_list.append(df_internamento)\n"
   ]
  },
  {
   "cell_type": "code",
   "execution_count": 106,
   "id": "7fd538a1",
   "metadata": {},
   "outputs": [
    {
     "name": "stdout",
     "output_type": "stream",
     "text": [
      "Dados inseridos na tabela 'Internamento' com sucesso. (500 registros)\n"
     ]
    }
   ],
   "source": [
    "sql_insert_pessoa = \"\"\"\n",
    "    INSERT INTO Pessoa (nasc, sexo, idade, raca_cor, etnia, cod_idade)\n",
    "    VALUES (%s, %s, %s, %s, %s, %s)\n",
    "    RETURNING pessoa_id;\n",
    "\"\"\"\n",
    "\n",
    "sql_insert_internamento = \"\"\"\n",
    "    INSERT INTO Internamento (\n",
    "        internamento_id, qt_diarias, val_sh, val_sp, val_tot, dt_inter, \n",
    "        morte, cid_morte, cnes_id, procedimento_id, cid_id, pessoa_id\n",
    "    )\n",
    "    VALUES (%s, %s, %s, %s, %s, %s, %s, %s, %s, %s, %s, %s)\n",
    "    ON CONFLICT (internamento_id) DO NOTHING;\n",
    "\"\"\"\n",
    "\n",
    "if conn is None or cur is None:\n",
    "    print(\"Conexão com o banco de dados não estabelecida. Não é possível inserir dados na tabela 'Internamento'.\")\n",
    "    exit(1)\n",
    "\n",
    "for df_internamento in df_internamentos_list:\n",
    "    if not df_internamento.empty:\n",
    "        try:\n",
    "            for _, row in df_internamento.iterrows():\n",
    "                cur.execute(sql_insert_pessoa, (\n",
    "                    row['NASC'], row['SEXO'], row['IDADE'], \n",
    "                    row['RACA_COR'], row['ETNIA'], row['COD_IDADE']\n",
    "                ))\n",
    "                pessoa_id = cur.fetchone()[0]\n",
    "\n",
    "                # Garantir que PROC_REA tenha sempre 10 dígitos\n",
    "                proc_rea = str(row['PROC_REA']).zfill(10)\n",
    "\n",
    "                cur.execute(sql_insert_internamento, (\n",
    "                    row['N_AIH'], row['QT_DIARIAS'], row['VAL_SH'], \n",
    "                    row['VAL_SP'], row['VAL_TOT'], row['DT_INTER'], \n",
    "                    row['MORTE'], row['CID_MORTE'], row['CNES'], \n",
    "                    proc_rea, row['DIAG_PRINC'], pessoa_id\n",
    "                ))\n",
    "            conn.commit()\n",
    "            print(f\"Dados inseridos na tabela 'Internamento' com sucesso. ({len(df_internamento)} registros)\")\n",
    "        except psycopg2.Error as e:\n",
    "            print(f\"Erro ao inserir dados na tabela 'Internamento': {e}\")\n",
    "            conn.rollback()\n",
    "    else:\n",
    "        print(f\"DataFrame: {df_internamento} está vazio. Nenhum dado será inserido na tabela 'Internamento'.\")\n"
   ]
  }
 ],
 "metadata": {
  "kernelspec": {
   "display_name": ".venv (3.12.3)",
   "language": "python",
   "name": "python3"
  },
  "language_info": {
   "codemirror_mode": {
    "name": "ipython",
    "version": 3
   },
   "file_extension": ".py",
   "mimetype": "text/x-python",
   "name": "python",
   "nbconvert_exporter": "python",
   "pygments_lexer": "ipython3",
   "version": "3.12.3"
  }
 },
 "nbformat": 4,
 "nbformat_minor": 5
}
