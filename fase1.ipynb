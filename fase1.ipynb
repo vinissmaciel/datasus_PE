{
 "cells": [
  {
   "cell_type": "markdown",
   "id": "413b982c",
   "metadata": {},
   "source": [
    "# Etapa 01 – Coleta dos Dados\n",
    "### Equipe: Ana Carolina Estrela, Eduardo Ikeda, Vinicius Maciel\n",
    "### Estado: Pernambuco\n",
    "\n",
    "A extração inicial dos dados foi feita pelo proprio site do Datasus e sua extração foi feita utilizando o tabwin. As fases subsequentes foram feitas utilizando a biblioteca Pandas do python\n"
   ]
  },
  {
   "cell_type": "code",
   "execution_count": 1,
   "id": "ac95ac3c",
   "metadata": {},
   "outputs": [],
   "source": [
    "import pandas as pd"
   ]
  },
  {
   "cell_type": "markdown",
   "id": "92ddf12f",
   "metadata": {},
   "source": [
    "### 4.a – Quantos registros de AIH existem para cada mês e em cada estado?"
   ]
  },
  {
   "cell_type": "code",
   "execution_count": 2,
   "id": "1e5fec53",
   "metadata": {},
   "outputs": [
    {
     "name": "stdout",
     "output_type": "stream",
     "text": [
      "    quantidade   ano  mes\n",
      "0        46340  2019    1\n",
      "1        44356  2019    2\n",
      "2        47317  2019    3\n",
      "3        49156  2019    4\n",
      "4        51443  2019    5\n",
      "..         ...   ...  ...\n",
      "67       59288  2024    8\n",
      "68       57731  2024    9\n",
      "69       58387  2024   10\n",
      "70       53576  2024   11\n",
      "71       53957  2024   12\n",
      "\n",
      "[72 rows x 3 columns]\n"
     ]
    }
   ],
   "source": [
    "chunksize = 100_000  \n",
    "resultados = {}\n",
    "\n",
    "for chunk in pd.read_csv(\"combined_data.csv\", sep=\",\", encoding=\"latin1\", chunksize=chunksize, low_memory=False):\n",
    "    chunk.columns = chunk.columns.str.strip()\n",
    "    \n",
    "    # Contar registros por ano e mês\n",
    "    contagem = chunk.groupby([\"ANO_CMPT\", \"MES_CMPT\"]).size()\n",
    "    \n",
    "    for idx, valor in contagem.items():\n",
    "        resultados[idx] = resultados.get(idx, 0) + valor\n",
    "\n",
    "df_resultado = pd.DataFrame(list(resultados.items()), columns=[\"(ano, mes)\", \"quantidade\"])\n",
    "df_resultado[[\"ano\", \"mes\"]] = pd.DataFrame(df_resultado[\"(ano, mes)\"].tolist(), index=df_resultado.index)\n",
    "df_resultado = df_resultado.drop(columns=\"(ano, mes)\")\n",
    "\n",
    "df_resultado = df_resultado.sort_values([\"ano\", \"mes\"])\n",
    "print(df_resultado)\n",
    "df_resultado.to_csv(\"4a_resultado_mes_ano.csv\", index=False, encoding=\"utf-8\")\n",
    "\n",
    "\n"
   ]
  },
  {
   "cell_type": "code",
   "execution_count": 4,
   "id": "ddef8605",
   "metadata": {},
   "outputs": [
    {
     "name": "stdout",
     "output_type": "stream",
     "text": [
      "    ano  quantidade\n",
      "0  2019      635467\n",
      "1  2020      490539\n",
      "2  2021      557344\n",
      "3  2022      599329\n",
      "4  2023      617948\n",
      "5  2024      669715\n"
     ]
    }
   ],
   "source": [
    "resultados = {} \n",
    "\n",
    "for chunk in pd.read_csv(\"combined_data.csv\", sep=\",\", encoding=\"latin1\", chunksize=chunksize, low_memory=False):\n",
    "    chunk.columns = chunk.columns.str.strip()\n",
    "    \n",
    "    contagem = chunk.groupby(\"ANO_CMPT\").size()\n",
    "    \n",
    "    for idx, valor in contagem.items():\n",
    "        resultados[idx] = resultados.get(idx, 0) + valor\n",
    "\n",
    "df_resultado = pd.DataFrame(list(resultados.items()), columns=[\"ano\", \"quantidade\"])\n",
    "\n",
    "df_resultado = df_resultado.sort_values(\"ano\").reset_index(drop=True)\n",
    "print(df_resultado)\n",
    "df_resultado.to_csv(\"4a_resultado_ano.csv\", index=False, encoding=\"utf-8\")\n"
   ]
  },
  {
   "cell_type": "markdown",
   "id": "0f9b5450",
   "metadata": {},
   "source": [
    "### 4.b – Quantos registros de Procedimentos de Saúde foram importados?"
   ]
  },
  {
   "cell_type": "code",
   "execution_count": 5,
   "id": "e605554c",
   "metadata": {},
   "outputs": [
    {
     "name": "stdout",
     "output_type": "stream",
     "text": [
      "Total de registros de procedimentos: 3570342\n"
     ]
    }
   ],
   "source": [
    "total_procedimentos = 0\n",
    "\n",
    "for chunk in pd.read_csv(\"combined_data.csv\", sep=\",\", encoding=\"latin1\", chunksize=chunksize, low_memory=False):\n",
    "    chunk.columns = chunk.columns.str.strip()\n",
    "    \n",
    "    \n",
    "    total_procedimentos += chunk[\"ESPEC\"].notna().sum()\n",
    "\n",
    "print(\"Total de registros de procedimentos:\", total_procedimentos)\n",
    "\n"
   ]
  },
  {
   "cell_type": "markdown",
   "id": "44db4534",
   "metadata": {},
   "source": [
    "### 4.c – Quantos registros de CID foram importados?\n"
   ]
  },
  {
   "cell_type": "code",
   "execution_count": 6,
   "id": "6a94b23c",
   "metadata": {},
   "outputs": [
    {
     "name": "stdout",
     "output_type": "stream",
     "text": [
      "Total de registros com pelo menos um CID preenchido: 3570342\n"
     ]
    }
   ],
   "source": [
    "total_cid  = 0\n",
    "\n",
    "for chunk in pd.read_csv(\"combined_data.csv\", sep=\",\", encoding=\"latin1\", chunksize=chunksize, low_memory=False):\n",
    "    chunk.columns = chunk.columns.str.strip()\n",
    "\n",
    "    cid_presente = chunk[['CID_NOTIF', 'CID_ASSO', 'CID_MORTE']].notna().any(axis=1)\n",
    "    total_cid += cid_presente.sum()\n",
    "\n",
    "print(\"Total de registros com pelo menos um CID preenchido:\", total_cid)"
   ]
  },
  {
   "cell_type": "markdown",
   "id": "5a01eeaa",
   "metadata": {},
   "source": [
    "### 4.d – Quantos registros de estabelecimentos (CNES) foram importados?"
   ]
  },
  {
   "cell_type": "code",
   "execution_count": null,
   "id": "e39f764b",
   "metadata": {},
   "outputs": [
    {
     "name": "stdout",
     "output_type": "stream",
     "text": [
      "Total de registros de estabelecimentos válidos: 3570342\n"
     ]
    }
   ],
   "source": [
    "total_estabelecimentos = 0\n",
    "\n",
    "for chunk in pd.read_csv(\"combined_data.csv\", sep=\",\", encoding=\"latin1\", chunksize=chunksize, low_memory=False):\n",
    "    chunk.columns = chunk.columns.str.strip()\n",
    "    \n",
    "    registros_validos = pd.to_numeric(chunk['CNES'], errors='coerce').notna()\n",
    "    \n",
    "    total_estabelecimentos += registros_validos.sum()\n",
    "\n",
    "print(\"Total de registros de estabelecimentos válidos:\", total_estabelecimentos)"
   ]
  }
 ],
 "metadata": {
  "kernelspec": {
   "display_name": "Python 3",
   "language": "python",
   "name": "python3"
  },
  "language_info": {
   "codemirror_mode": {
    "name": "ipython",
    "version": 3
   },
   "file_extension": ".py",
   "mimetype": "text/x-python",
   "name": "python",
   "nbconvert_exporter": "python",
   "pygments_lexer": "ipython3",
   "version": "3.8.0"
  }
 },
 "nbformat": 4,
 "nbformat_minor": 5
}
